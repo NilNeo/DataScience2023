{
 "cells": [
  {
   "cell_type": "code",
   "execution_count": 15,
   "id": "d4afe5c8-e44c-479a-9410-6a7ed396b7c0",
   "metadata": {},
   "outputs": [],
   "source": [
    "\"\"\"\n",
    "Q1, Create a vehicle class with an init method having instance variables as name_of_vehicle, max_speed\n",
    "and average_of_vehicle.\n",
    "\"\"\"\n",
    "class Vehicle:\n",
    "    def __init__(self, name_of_vehicle, max_speed, average_of_vehicle):\n",
    "        self.name_of_vehicle    = name_of_vehicle\n",
    "        self.max_speed          = max_speed\n",
    "        self.average_of_vehicle = average_of_vehicle\n",
    "        "
   ]
  },
  {
   "cell_type": "code",
   "execution_count": 16,
   "id": "c025e3c2-e799-44fc-a31a-70422fe05c26",
   "metadata": {},
   "outputs": [
    {
     "name": "stdout",
     "output_type": "stream",
     "text": [
      "Name - BMW, Seating Capacity - 4\n"
     ]
    }
   ],
   "source": [
    "\"\"\"\n",
    "Q2. Create a child class car from the vehicle class created in Que 1, which will inherit the vehicle class.\n",
    "Create a method named seating_capacity which takes capacity as an argument and returns the name of\n",
    "the vehicle and its seating capacity.\n",
    "\"\"\"\n",
    "class Car(Vehicle):\n",
    "    def seating_capacity(self, capacity):\n",
    "        return f\"Name - {self.name_of_vehicle}, Seating Capacity - {capacity}\"\n",
    "    \n",
    "c = Car(\"BMW\", 200, 100)\n",
    "print(c.seating_capacity(4))"
   ]
  },
  {
   "cell_type": "code",
   "execution_count": 19,
   "id": "130966d7-98fa-4f88-ac35-8811b3cf723c",
   "metadata": {},
   "outputs": [
    {
     "name": "stdout",
     "output_type": "stream",
     "text": [
      "Project Name - A123, Frontend Technology - Django, Backend Technology - Python\n"
     ]
    }
   ],
   "source": [
    "\"\"\"\n",
    "Q3. What is multiple inheritance? Write a python code to demonstrate multiple inheritance.\n",
    "\"\"\"\n",
    "class FrontendTechnology:\n",
    "    def frontendTechnology(self):\n",
    "        return \"Django\"\n",
    "        \n",
    "class BackendTechnology:\n",
    "    def backendTechnology(self):\n",
    "        return \"Python\"\n",
    "\n",
    "class Project(FrontendTechnology, BackendTechnology):\n",
    "    def __init__(self, name):\n",
    "        self.name = name\n",
    "        \n",
    "    def details(self):\n",
    "        print(f\"Project Name - {self.name}, Frontend Technology - {self.frontendTechnology()}, Backend Technology - {self.backendTechnology()}\")\n",
    "\n",
    "p = Project(\"A123\")\n",
    "p.details()"
   ]
  },
  {
   "cell_type": "code",
   "execution_count": 20,
   "id": "a65fb0ab-4b3c-4a98-8767-99ff1cc80cfb",
   "metadata": {},
   "outputs": [
    {
     "name": "stdout",
     "output_type": "stream",
     "text": [
      "getter 100000\n",
      "setter with salary = 0 : 100000\n",
      "setter with salary > 0 : 500000\n"
     ]
    }
   ],
   "source": [
    "\"\"\"\n",
    "Q4. What are getter and setter in python? Create a class and create a getter and a setter method in this class.\n",
    "\"\"\"\n",
    "# getter is used to access the value and setter is used to set the value of the private attribute of the class\n",
    "\n",
    "class Employee:\n",
    "    def __init__(self, name, salary):\n",
    "        self.name     = name\n",
    "        self.__salary = salary\n",
    "        \n",
    "    @property\n",
    "    def salary(self):\n",
    "        return self.__salary\n",
    "    \n",
    "    @salary.setter\n",
    "    def salary(self, salary):\n",
    "        if salary > 0:\n",
    "            self.__salary = salary\n",
    "    \n",
    "e = Employee(\"PW\", 100000)\n",
    "print('getter', e.salary)\n",
    "e.salary = 0\n",
    "print('setter with salary = 0 :', e.salary)\n",
    "e.salary = 500000\n",
    "print('setter with salary > 0 :', e.salary)"
   ]
  },
  {
   "cell_type": "code",
   "execution_count": 21,
   "id": "c0535f70-f23b-4335-af51-75165c9ad037",
   "metadata": {},
   "outputs": [
    {
     "name": "stdout",
     "output_type": "stream",
     "text": [
      "This is Vehicle\n",
      "This is Car\n"
     ]
    }
   ],
   "source": [
    "\"\"\"\n",
    "Q5.What is method overriding in python? Write a python code to demonstrate method overriding.\n",
    "\"\"\"\n",
    "# Method overriding is the ability of sub/child class to provide specific implementation of the method defined in super/parent class\n",
    "class Vehicle:\n",
    "    def details(self):\n",
    "        return \"This is Vehicle\"\n",
    "    \n",
    "class Car(Vehicle):\n",
    "    def details(self):\n",
    "        return \"This is Car\"\n",
    "    \n",
    "v = Vehicle()\n",
    "print(v.details())\n",
    "c = Car()\n",
    "print(c.details())"
   ]
  }
 ],
 "metadata": {
  "kernelspec": {
   "display_name": "Python 3 (ipykernel)",
   "language": "python",
   "name": "python3"
  },
  "language_info": {
   "codemirror_mode": {
    "name": "ipython",
    "version": 3
   },
   "file_extension": ".py",
   "mimetype": "text/x-python",
   "name": "python",
   "nbconvert_exporter": "python",
   "pygments_lexer": "ipython3",
   "version": "3.10.8"
  }
 },
 "nbformat": 4,
 "nbformat_minor": 5
}
