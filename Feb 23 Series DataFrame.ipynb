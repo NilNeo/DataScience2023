{
 "cells": [
  {
   "cell_type": "code",
   "execution_count": 2,
   "id": "0d8c50e0-8200-447e-8ba6-fa0b355eebac",
   "metadata": {},
   "outputs": [
    {
     "name": "stdout",
     "output_type": "stream",
     "text": [
      "0     4\n",
      "1     8\n",
      "2    15\n",
      "3    16\n",
      "4    23\n",
      "5    42\n",
      "dtype: int64\n"
     ]
    }
   ],
   "source": [
    "\"\"\"\n",
    "Q1. Create a Pandas Series that contains the following data: 4, 8, 15, 16, 23, and 42. Then, print the series.\n",
    "\"\"\"\n",
    "import pandas as pd\n",
    "\n",
    "s = pd.Series([4, 8, 15, 16, 23, 42])\n",
    "\n",
    "print(s)"
   ]
  },
  {
   "cell_type": "code",
   "execution_count": 5,
   "id": "8d0e674a-78e2-49cd-8a98-dc1ecbc57536",
   "metadata": {},
   "outputs": [
    {
     "name": "stdout",
     "output_type": "stream",
     "text": [
      "0     1\n",
      "1     2\n",
      "2     3\n",
      "3     4\n",
      "4     5\n",
      "5     6\n",
      "6     7\n",
      "7     8\n",
      "8     9\n",
      "9    10\n",
      "dtype: int64\n"
     ]
    }
   ],
   "source": [
    "\"\"\"\n",
    "Q2. Create a variable of list type containing 10 elements in it, and apply pandas.Series function on the\n",
    "variable print it.\n",
    "\"\"\"\n",
    "l = list(range(1, 11))\n",
    "\n",
    "s = pd.Series(l)\n",
    "\n",
    "print(s)"
   ]
  },
  {
   "cell_type": "code",
   "execution_count": 9,
   "id": "14a964fa-1f50-420d-b12b-54570ab0c83a",
   "metadata": {},
   "outputs": [
    {
     "name": "stdout",
     "output_type": "stream",
     "text": [
      "     Name  Age  Gender\n",
      "0   Alice   25  Female\n",
      "1     Bob   30    Male\n",
      "2  Claire   27  Female\n"
     ]
    }
   ],
   "source": [
    "\"\"\"\n",
    "Q3. Create a Pandas DataFrame that contains the following data:\n",
    "Name   Age Gender\n",
    "Alice  25  Female\n",
    "Bob    30  Male\n",
    "Claire 27  Female\n",
    "\n",
    "Then, print the DataFrame.\n",
    "\"\"\"\n",
    "\n",
    "df = pd.DataFrame([['Alice', 25, 'Female'], ['Bob', 30, 'Male'], ['Claire', 27, 'Female']], \n",
    "                  columns = ['Name', 'Age', 'Gender']\n",
    "                  )\n",
    "print(df)"
   ]
  },
  {
   "cell_type": "code",
   "execution_count": 13,
   "id": "b0dc5498-8e66-4c5c-ae96-ec83c81415b0",
   "metadata": {},
   "outputs": [
    {
     "name": "stdout",
     "output_type": "stream",
     "text": [
      "0    1\n",
      "1    2\n",
      "2    3\n",
      "dtype: int64\n",
      "\n",
      "  Name RawData\n",
      "0   N1    1234\n",
      "1   N2    ABCD\n",
      "2   N3   False\n"
     ]
    }
   ],
   "source": [
    "\"\"\"\n",
    "Q4. What is ‘DataFrame’ in pandas and how is it different from pandas.series? Explain with an example.\n",
    "\"\"\"\n",
    "# DataFrame is heterogeneous collection of two dimentional data while Series is homogeneous collection of one dimentional data\n",
    "\n",
    "s  = pd.Series([1, 2, 3])\n",
    "df = pd.DataFrame([['N1', '1234'], ['N2', 'ABCD'], ['N3', False]], columns = ['Name', 'RawData'])\n",
    "\n",
    "print(s)\n",
    "print('')\n",
    "print(df)"
   ]
  },
  {
   "cell_type": "code",
   "execution_count": 8,
   "id": "65dbb93f-6477-41b6-a04a-c51432864b60",
   "metadata": {},
   "outputs": [
    {
     "name": "stdout",
     "output_type": "stream",
     "text": [
      "Original DataFrame\n",
      "     Name  Age  Gender  DailyWages\n",
      "0   Alice   25  Female        1000\n",
      "1     Bob   30    Male         500\n",
      "2  Claire   27  Female         750\n",
      "\n",
      "DataFrame 1\n",
      "     Name  Age  Gender  DailyWages\n",
      "0   Alice   25  Female        1000\n",
      "1     Bob   30    Male         600\n",
      "2  Claire   27  Female         750\n",
      "\n",
      "DataFrame 2\n",
      "     Name  Age  Gender  DailyWages\n",
      "0   Alice   25  Female        1000\n",
      "1     Bob   30    Male         600\n",
      "2  Claire   27  Female        1750\n",
      "\n",
      "Original DataFrame 2\n",
      "   A   B    C\n",
      "0  1  10  100\n",
      "1  2  20  200\n",
      "2  3  30  300\n",
      "\n",
      "DataFrame 3 - apply()\n",
      "   A    B      C\n",
      "0  1  100  10000\n",
      "1  4  400  40000\n",
      "2  9  900  90000\n",
      "\n",
      "DataFrame 4 - applymap()\n",
      "     A     B      C\n",
      "0  1.0  10.0  100.0\n",
      "1  2.0  20.0  200.0\n",
      "2  3.0  30.0  300.0\n",
      "\n"
     ]
    }
   ],
   "source": [
    "\"\"\"\n",
    "Q5. What are some common functions you can use to manipulate data in a Pandas DataFrame? Can\n",
    "you give an example of when you might use one of these functions?\n",
    "\"\"\"\n",
    "import math \n",
    "\n",
    "df = pd.DataFrame([['Alice', 25, 'Female', 1000], ['Bob', 30, 'Male', 500], ['Claire', 27, 'Female', 750]], \n",
    "                  columns = ['Name', 'Age', 'Gender', 'DailyWages']\n",
    "                 )\n",
    "                  \n",
    "print('Original DataFrame')\n",
    "print(df)\n",
    "print()\n",
    "\n",
    "# Simple Assignment 1\n",
    "df.iloc[1, 3] = 600 # Change Bob's DailyWages to 600\n",
    "print('DataFrame 1')\n",
    "print(df)\n",
    "print()\n",
    "\n",
    "# Simple Assignment 2\n",
    "df.loc[2, 'DailyWages'] = 1750 # Change Claire's DailyWages to 1750\n",
    "print('DataFrame 2')\n",
    "print(df)\n",
    "print()\n",
    "\n",
    "# apply() - to modify several columns in a dataframe at once\n",
    "df2 = pd.DataFrame([[1, 10, 100], [2, 20, 200], [3, 30, 300]]\n",
    "                   ,columns = ['A', 'B', 'C']\n",
    "                   )\n",
    "\n",
    "\n",
    "print('Original DataFrame 2')\n",
    "print(df2)\n",
    "print()\n",
    "\n",
    "def squar(v):\n",
    "    return v * v\n",
    "\n",
    "df3 = df2.apply(squar)\n",
    "print('DataFrame 3 - apply()')\n",
    "print(df3)\n",
    "print()\n",
    "\n",
    "# applymap() - to modify the values in a dataframe element-wise\n",
    "df4 = df3.applymap(lambda v : math.sqrt(v))\n",
    "print('DataFrame 4 - applymap()')\n",
    "print(df4)\n",
    "print()"
   ]
  },
  {
   "cell_type": "code",
   "execution_count": null,
   "id": "20c0cdf6-a72a-4264-b723-aea910374fe4",
   "metadata": {},
   "outputs": [],
   "source": [
    "\"\"\"\n",
    "Q6. Which of the following is mutable in nature Series, DataFrame, Panel?\n",
    "\"\"\"\n",
    "# all pandas data structures (Series, DataFrame, Panel etc.) are multable\n",
    "# size of Series can't be changed"
   ]
  },
  {
   "cell_type": "code",
   "execution_count": 11,
   "id": "a9b5e828-40ea-4430-84c4-a0e06f4a20f4",
   "metadata": {},
   "outputs": [
    {
     "name": "stdout",
     "output_type": "stream",
     "text": [
      "    StudentName OngoingLecture\n",
      "100          S1    DataScience\n",
      "101          S2         Pandas\n",
      "102          S3     Statistics\n"
     ]
    }
   ],
   "source": [
    "\"\"\"\n",
    "Q7. Create a DataFrame using multiple Series. Explain with an example.\n",
    "\"\"\"\n",
    "# index in each series is student id. While creating dataframe, series is joined using series index.\n",
    "student_name    = pd.Series(['S1', 'S2', 'S3'], index = [100, 101, 102])\n",
    "ongoing_lecture = pd.Series(['DataScience', 'Pandas', 'Statistics'], index = [100, 101, 102])\n",
    "\n",
    "df = pd.DataFrame({'StudentName': student_name, 'OngoingLecture': ongoing_lecture})\n",
    "\n",
    "print(df)"
   ]
  }
 ],
 "metadata": {
  "kernelspec": {
   "display_name": "Python 3 (ipykernel)",
   "language": "python",
   "name": "python3"
  },
  "language_info": {
   "codemirror_mode": {
    "name": "ipython",
    "version": 3
   },
   "file_extension": ".py",
   "mimetype": "text/x-python",
   "name": "python",
   "nbconvert_exporter": "python",
   "pygments_lexer": "ipython3",
   "version": "3.10.8"
  }
 },
 "nbformat": 4,
 "nbformat_minor": 5
}
