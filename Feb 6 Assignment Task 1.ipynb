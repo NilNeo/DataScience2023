{
 "cells": [
  {
   "cell_type": "code",
   "execution_count": 37,
   "id": "cf8c820f-2810-44d6-8a84-a422043cc319",
   "metadata": {},
   "outputs": [
    {
     "name": "stdout",
     "output_type": "stream",
     "text": [
      "Flat list - [1, 2, 3, 4, 44, 55, 66, 34, 56, 78, 89, 34, 1, 2, 3, 1, 34, 55, 67, 78, 89, 4, 45, 22, 61, 34, 56]\n",
      "Product   - 4134711838987085478833841242112000\n",
      "4134711838987085478833841242112000\n"
     ]
    }
   ],
   "source": [
    "\"\"\"\n",
    "Q1. Create a function which will take a list as an argument and return the product of all the numbers\n",
    "after creating a flat list.\n",
    "Use the below-given list as an argument for your function.\n",
    "list1 = [1,2,3,4, [44,55,66, True], False, (34,56,78,89,34), {1,2,3,3,2,1}, {1:34, \"key2\": [55, 67, 78, 89], 4: (45,\n",
    "22, 61, 34)}, [56, 'data science'], 'Machine Learning']\n",
    "Note: you must extract numeric keys and values of the dictionary also.\n",
    "\"\"\"\n",
    "from functools import reduce\n",
    "\n",
    "list1 = [1,2,3,4, [44,55,66, True], False, (34,56,78,89,34), {1,2,3,3,2,1}, {1:34, \"key2\": [55, 67, 78, 89], 4: (45,\n",
    "22, 61, 34)}, [56, 'data science'], 'Machine Learning']\n",
    "\n",
    "def isNumeric(e):\n",
    "    return type(e) in [int, float]\n",
    "\n",
    "def isListSetTuple(e):\n",
    "    return type(e) in [list, tuple, set]\n",
    "\n",
    "def listValueProduct(l):\n",
    "    flatList = []\n",
    "    for e in l:\n",
    "        if isNumeric(e):\n",
    "            flatList.append(e)\n",
    "            \n",
    "        elif isListSetTuple(e):\n",
    "            el = list(e)\n",
    "            for e1 in el:\n",
    "                if isNumeric(e1):\n",
    "                    flatList.append(e1)\n",
    "                \n",
    "        elif type(e) == dict:\n",
    "            el = e.items()\n",
    "            for k, v in el:\n",
    "                if isNumeric(k):\n",
    "                    flatList.append(k)\n",
    "                    \n",
    "                if isListSetTuple(k):\n",
    "                    el = list(e)\n",
    "                    for e1 in el:\n",
    "                        if isNumeric(e1):\n",
    "                            flatList.append(e1)\n",
    "                    \n",
    "                if isNumeric(v):\n",
    "                    flatList.append(v)\n",
    "                    continue\n",
    "                    \n",
    "                if isListSetTuple(v):\n",
    "                    el = list(v)\n",
    "                    for e1 in el:\n",
    "                        if isNumeric(e1):\n",
    "                            flatList.append(e1)\n",
    "                         \n",
    "    if flatList:\n",
    "        p = reduce(lambda a,b : a * b, flatList)\n",
    "    else:\n",
    "        p = 0\n",
    "        \n",
    "    print(f'Flat list - {flatList}')\n",
    "    print(f'Product   - {p}')\n",
    "\n",
    "    return p\n",
    "\n",
    "print(listValueProduct(list1))"
   ]
  },
  {
   "cell_type": "code",
   "execution_count": 39,
   "id": "89620ea7-3a1c-41c9-8d2b-c17dc2de4615",
   "metadata": {},
   "outputs": [
    {
     "name": "stdin",
     "output_type": "stream",
     "text": [
      "Enter your message - I want to become a Data Scientist.\n"
     ]
    },
    {
     "name": "stdout",
     "output_type": "stream",
     "text": [
      "Input  : I want to become a Data Scientist.\n",
      "Output : r$dzmg$gl$yvxlnv$z$wzgz$hxrvmgrhg.\n"
     ]
    }
   ],
   "source": [
    "\"\"\"\n",
    "Q2. Write a python program for encrypting a message sent to you by your friend. The logic of encryption\n",
    "should be such that, for a the output should be z. For b, the output should be y. For c, the output should\n",
    "be x respectively. Also, the whitespace should be replaced with a dollar sign. Keep the punctuation\n",
    "marks unchanged.\n",
    "Input Sentence: I want to become a Data Scientist.\n",
    "Encrypt the above input sentence using the program you just created.\n",
    "Note: Convert the given input sentence into lowercase before encrypting. The final output should be\n",
    "lowercase.\n",
    "\"\"\"\n",
    "import string\n",
    "\n",
    "alphaList    = [a for a in string.ascii_lowercase]\n",
    "alphaListLen = len(alphaList) - 1\n",
    "\n",
    "def encriptMessage(msg):\n",
    "    op = ''\n",
    "    \n",
    "    enrichedMsg = msg.replace(' ', '$')\n",
    "    for e in enrichedMsg:\n",
    "        e1 = e.lower()\n",
    "        \n",
    "        if e1 in alphaList:\n",
    "            op += alphaList[ alphaListLen - alphaList.index(e1) ]\n",
    "        else:\n",
    "            op += e1\n",
    "    \n",
    "    return op\n",
    "    \n",
    "ip = input('Enter your message -')\n",
    "op = encriptMessage(ip)\n",
    "\n",
    "print(f'Input  : {ip}')\n",
    "print(f'Output : {op}')"
   ]
  }
 ],
 "metadata": {
  "kernelspec": {
   "display_name": "Python 3 (ipykernel)",
   "language": "python",
   "name": "python3"
  },
  "language_info": {
   "codemirror_mode": {
    "name": "ipython",
    "version": 3
   },
   "file_extension": ".py",
   "mimetype": "text/x-python",
   "name": "python",
   "nbconvert_exporter": "python",
   "pygments_lexer": "ipython3",
   "version": "3.10.8"
  }
 },
 "nbformat": 4,
 "nbformat_minor": 5
}
