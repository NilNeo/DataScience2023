{
 "cells": [
  {
   "cell_type": "code",
   "execution_count": 9,
   "id": "925bbfdc-fb20-43e7-b01c-0502357be7e4",
   "metadata": {},
   "outputs": [
    {
     "name": "stdout",
     "output_type": "stream",
     "text": [
      "list_      :  ['1', '2', '3', '4', '5'] , Type :  <class 'list'>\n",
      "array_list :  ['1' '2' '3' '4' '5'] , Type :  <class 'numpy.ndarray'>\n"
     ]
    }
   ],
   "source": [
    "\"\"\"\n",
    "Consider the below code to answer further questions:\n",
    "\"\"\"\n",
    "import numpy as np\n",
    "list_ = [ '1' , '2' , '3' , '4' , '5' ]\n",
    "array_list = np.array(object = list_)"
   ]
  },
  {
   "cell_type": "code",
   "execution_count": 11,
   "id": "a27df776-ce8d-4e64-995e-8743c714b012",
   "metadata": {},
   "outputs": [
    {
     "name": "stdout",
     "output_type": "stream",
     "text": [
      "list_      :  ['1', '2', '3', '4', '5'] , type(list_) :  <class 'list'>\n",
      "array_list :  ['1' '2' '3' '4' '5'] , type(array_list) :  <class 'numpy.ndarray'>\n"
     ]
    }
   ],
   "source": [
    "\"\"\"\n",
    "Q1. Is there any difference in the data type of variables list_ and array_list? If there is then write a code\n",
    "to print the data types of both the variables.\n",
    "\"\"\"\n",
    "# list_ is a list, ordered (indexed) collection of heterogeneos elements whereas array_list is an array, ordered (indexed) collection of homogeneos elements \n",
    "print('list_      : ', list_, ', type(list_) : ', type(list_))\n",
    "print('array_list : ', array_list, ', type(array_list) : ', type(array_list))"
   ]
  },
  {
   "cell_type": "code",
   "execution_count": 13,
   "id": "dcb24449-ac34-4b77-9b5c-bf4e1f9b4b35",
   "metadata": {},
   "outputs": [
    {
     "name": "stdout",
     "output_type": "stream",
     "text": [
      "list_ \n",
      "\n",
      "1 <class 'str'>\n",
      "2 <class 'str'>\n",
      "3 <class 'str'>\n",
      "4 <class 'str'>\n",
      "5 <class 'str'>\n",
      "\n",
      "array_list \n",
      "\n",
      "1 <class 'numpy.str_'>\n",
      "2 <class 'numpy.str_'>\n",
      "3 <class 'numpy.str_'>\n",
      "4 <class 'numpy.str_'>\n",
      "5 <class 'numpy.str_'>\n"
     ]
    }
   ],
   "source": [
    "\"\"\"\n",
    "Q2. Write a code to print the data type of each and every element of both the variables list_ and\n",
    "arra_list.\n",
    "\"\"\"\n",
    "print('list_ \\n')\n",
    "for e in list_:\n",
    "    print(e, type(e))\n",
    "    \n",
    "print('\\narray_list \\n')\n",
    "for e in array_list:\n",
    "    print(e, type(e))"
   ]
  },
  {
   "cell_type": "code",
   "execution_count": 15,
   "id": "75f556fc-6da5-4b45-9b33-cc8c8e6c8c97",
   "metadata": {},
   "outputs": [
    {
     "name": "stdout",
     "output_type": "stream",
     "text": [
      "list_ \n",
      "\n",
      "1 <class 'str'>\n",
      "2 <class 'str'>\n",
      "3 <class 'str'>\n",
      "4 <class 'str'>\n",
      "5 <class 'str'>\n",
      "\n",
      "array_list \n",
      "\n",
      "1 <class 'numpy.int64'>\n",
      "2 <class 'numpy.int64'>\n",
      "3 <class 'numpy.int64'>\n",
      "4 <class 'numpy.int64'>\n",
      "5 <class 'numpy.int64'>\n"
     ]
    }
   ],
   "source": [
    "\"\"\"\n",
    "Q3. Considering the following changes in the variable, array_list:\n",
    "array_list = np.array(object = list_, dtype = int)\n",
    "Will there be any difference in the data type of the elements present in both the variables, list_ and\n",
    "arra_list? If so then print the data types of each and every element present in both the variables, list_\n",
    "and arra_list.\n",
    "\"\"\"\n",
    "array_list = np.array(object = list_, dtype = int) # datatype of list_ elements would not change, datatype of array_list elements would be numpy.int64 instead of numpy.str\n",
    "\n",
    "print('list_ \\n')\n",
    "for e in list_:\n",
    "    print(e, type(e))\n",
    "    \n",
    "print('\\narray_list \\n')\n",
    "for e in array_list:\n",
    "    print(e, type(e))"
   ]
  },
  {
   "cell_type": "code",
   "execution_count": 17,
   "id": "c5246e95-9f91-4c52-b8c5-6d169f512442",
   "metadata": {},
   "outputs": [
    {
     "name": "stdout",
     "output_type": "stream",
     "text": [
      "num_list \n",
      " [[1, 2, 3], [4, 5, 6]]\n",
      "num_array \n",
      " [[1 2 3]\n",
      " [4 5 6]]\n"
     ]
    }
   ],
   "source": [
    "\"\"\"\n",
    "Consider the below code to answer further questions:\n",
    "\"\"\"\n",
    "import numpy as np\n",
    "num_list  = [ [ 1 , 2 , 3 ] , [ 4 , 5 , 6 ] ]\n",
    "num_array = np.array(object = num_list)\n",
    "\n",
    "print('num_list \\n', num_list )\n",
    "print('num_array \\n', num_array)"
   ]
  },
  {
   "cell_type": "code",
   "execution_count": 20,
   "id": "46d91d32-55a2-4961-bc2a-1a36eaca444e",
   "metadata": {},
   "outputs": [
    {
     "name": "stdout",
     "output_type": "stream",
     "text": [
      "shape - (2, 3)\n",
      "size  - 6\n"
     ]
    }
   ],
   "source": [
    "\"\"\"\n",
    "Q4. Write a code to find the following characteristics of variable, num_array:\n",
    "(i) shape\n",
    "(ii) size\n",
    "\"\"\"\n",
    "print(f'shape - {num_array.shape}') # shape (rows, columns)\n",
    "print(f'size  - {num_array.size}') # total number of elements"
   ]
  },
  {
   "cell_type": "code",
   "execution_count": 22,
   "id": "b1eae35f-c7da-4767-822c-ca9c5b780474",
   "metadata": {},
   "outputs": [
    {
     "name": "stdout",
     "output_type": "stream",
     "text": [
      "[[0. 0. 0.]\n",
      " [0. 0. 0.]\n",
      " [0. 0. 0.]]\n"
     ]
    }
   ],
   "source": [
    "\"\"\"\n",
    "Q5. Write a code to create numpy array of 3*3 matrix containing zeros only, using a numpy array\n",
    "creation function.\n",
    "[Hint: The size of the array will be 9 and the shape will be (3,3).]\n",
    "\"\"\"\n",
    "a = np.zeros(9).reshape(3, 3)\n",
    "print(a)"
   ]
  },
  {
   "cell_type": "code",
   "execution_count": 25,
   "id": "a557d5fd-a937-48ca-b3de-27f74b4d61b4",
   "metadata": {},
   "outputs": [
    {
     "name": "stdout",
     "output_type": "stream",
     "text": [
      "[[1. 0. 0. 0. 0.]\n",
      " [0. 1. 0. 0. 0.]\n",
      " [0. 0. 1. 0. 0.]\n",
      " [0. 0. 0. 1. 0.]\n",
      " [0. 0. 0. 0. 1.]]\n"
     ]
    }
   ],
   "source": [
    "\"\"\"\n",
    "Q6. Create an identity matrix of shape (5,5) using numpy functions?\n",
    "[Hint: An identity matrix is a matrix containing 1 diagonally and other elements will be 0.]\n",
    "\"\"\"\n",
    "a = np.identity(5)\n",
    "print(a)"
   ]
  }
 ],
 "metadata": {
  "kernelspec": {
   "display_name": "Python 3 (ipykernel)",
   "language": "python",
   "name": "python3"
  },
  "language_info": {
   "codemirror_mode": {
    "name": "ipython",
    "version": 3
   },
   "file_extension": ".py",
   "mimetype": "text/x-python",
   "name": "python",
   "nbconvert_exporter": "python",
   "pygments_lexer": "ipython3",
   "version": "3.10.8"
  }
 },
 "nbformat": 4,
 "nbformat_minor": 5
}
