{
 "cells": [
  {
   "cell_type": "code",
   "execution_count": 1,
   "id": "f0209d73-bd25-4d0d-a59a-9fe8a6ce795d",
   "metadata": {},
   "outputs": [],
   "source": [
    "\"\"\"\n",
    "Q1. Which function is used to open a file? What are the different modes of opening a file? Explain each mode of file opening.\n",
    "\"\"\"\n",
    "# open method is used to open a file\n",
    "# Modes\n",
    "# r -> read mode\n",
    "# w -> write mode, it truncates the file first if it exists\n",
    "# x -> create a new file and open it for writing. Operation failes if file already exists\n",
    "# a -> write mode, appends data to the end of the file if it exists\n",
    "# b -> binary mode\n",
    "# t -> text mode\n",
    "# + -> open a disk file for read or write operation\n",
    "# U -> universal newline mode"
   ]
  },
  {
   "cell_type": "code",
   "execution_count": null,
   "id": "8c4b903b-e9b3-4a08-8e7e-c22c16cde5a6",
   "metadata": {},
   "outputs": [],
   "source": [
    "\"\"\"\n",
    "Q2. Why close() function is used? Why is it important to close a file?\n",
    "\"\"\"\n",
    "# close method is used to close the file. Changes made to a file may not show until you close the file"
   ]
  },
  {
   "cell_type": "code",
   "execution_count": 24,
   "id": "d1325bd5-df5d-4ea8-b98d-f625952f2fd2",
   "metadata": {},
   "outputs": [
    {
     "name": "stdout",
     "output_type": "stream",
     "text": [
      "I want to become a Data Scientist\n"
     ]
    }
   ],
   "source": [
    "\"\"\"\n",
    "Q3. Write a python program to create a text file. Write ‘I want to become a Data Scientist’ in that file. Then close the file. \n",
    "Open this file and read the content of the file.\n",
    "\"\"\"\n",
    "FP = '/home/jovyan/work/Files/sampleFile.txt'\n",
    "f = open(FP, 'w')\n",
    "f.write('I want to become a Data Scientist')\n",
    "f.close()\n",
    "\n",
    "f = open(FP, 'r')\n",
    "print(f.read())\n",
    "f.close()"
   ]
  },
  {
   "cell_type": "code",
   "execution_count": 23,
   "id": "f02ca2f1-5286-4bda-8a55-fd8ecaed2c7a",
   "metadata": {},
   "outputs": [
    {
     "name": "stdout",
     "output_type": "stream",
     "text": [
      "read()      --> Line1 \n",
      "Line2 \n",
      "Line3 \n",
      "\n",
      "readline() 1 --> Line1 \n",
      "\n",
      "readline() 2 --> Line2 \n",
      "\n",
      "readline() 3 --> Line3 \n",
      "\n",
      "readlines() --> ['Line1 \\n', 'Line2 \\n', 'Line3 \\n']\n"
     ]
    }
   ],
   "source": [
    "\"\"\"\n",
    "Q4. Explain the following with python code: read(), readline() and readlines().\n",
    "\"\"\"\n",
    "# read() - reads the entire file and returns a string\n",
    "# readline() - reads just one line from a file\n",
    "# readlines() - returns a list of strings representing the lines of the file.\n",
    "\n",
    "FP = '/home/jovyan/work/Files/sampleRead.txt'\n",
    "\n",
    "with open(FP, 'w') as f:\n",
    "    f.write(\"Line1 \\n\")\n",
    "    f.write(\"Line2 \\n\")\n",
    "    f.write(\"Line3 \\n\")\n",
    "    \n",
    "with open(FP, 'r') as f:\n",
    "    print(f\"read()      --> {f.read()}\")\n",
    "    f.seek(0)\n",
    "    \n",
    "    print(f\"readline() 1 --> {f.readline()}\")\n",
    "    print(f\"readline() 2 --> {f.readline()}\")\n",
    "    print(f\"readline() 3 --> {f.readline()}\")\n",
    "    f.seek(0)\n",
    "    \n",
    "    print(f\"readlines() --> {f.readlines()}\")"
   ]
  },
  {
   "cell_type": "code",
   "execution_count": null,
   "id": "ef01740c-e48a-4d04-985b-bd04cba1145c",
   "metadata": {},
   "outputs": [],
   "source": [
    "\"\"\"\n",
    "Q5. Explain why with statement is used with open(). What is the advantage of using with statement and open() together?\n",
    "\"\"\"\n",
    "# with open() is used to ensure proper acquisition and release of resources\n",
    "# Using with open() we do not have to explicitly close the file as it internally calls __enter__ and __exit__ methods to do the same"
   ]
  },
  {
   "cell_type": "code",
   "execution_count": 22,
   "id": "9d9082d0-8ca4-47b1-804f-aa280e1a57e2",
   "metadata": {},
   "outputs": [
    {
     "name": "stdout",
     "output_type": "stream",
     "text": [
      "String Write \n",
      "ABCD\n"
     ]
    }
   ],
   "source": [
    "\"\"\"\n",
    "Q6. Explain the write() and writelines() functions. Give a suitable example.\n",
    "\"\"\"\n",
    "# Both are used to write data to the file but write method expects string data where as writelines expect iterable of string\n",
    "FP = '/home/jovyan/work/Files/sampleWrite.txt'\n",
    "\n",
    "with open(FP, 'w') as f:\n",
    "    f.write(\"String Write \\n\")\n",
    "    f.writelines(['A', 'B', 'C', 'D'])\n",
    "    \n",
    "with open(FP, 'r') as f:\n",
    "    print(f.read())"
   ]
  }
 ],
 "metadata": {
  "kernelspec": {
   "display_name": "Python 3 (ipykernel)",
   "language": "python",
   "name": "python3"
  },
  "language_info": {
   "codemirror_mode": {
    "name": "ipython",
    "version": 3
   },
   "file_extension": ".py",
   "mimetype": "text/x-python",
   "name": "python",
   "nbconvert_exporter": "python",
   "pygments_lexer": "ipython3",
   "version": "3.10.8"
  }
 },
 "nbformat": 4,
 "nbformat_minor": 5
}
