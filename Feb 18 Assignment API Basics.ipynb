{
 "cells": [
  {
   "cell_type": "code",
   "execution_count": null,
   "id": "50b000ee-dec4-4a86-901d-e15c0f14d46c",
   "metadata": {},
   "outputs": [],
   "source": [
    "\"\"\"\n",
    "Q1. What is an API? Give an example, where an API is used in real life.\n",
    "\"\"\"\n",
    "\n",
    "\"\"\"\n",
    "APIs are mechanisms that enable two software components to communicate with each other using a set of definitions and protocols. \n",
    "Example - Google Search API\n",
    "\"\"\""
   ]
  },
  {
   "cell_type": "code",
   "execution_count": null,
   "id": "b125bd59-1f5d-4411-9acb-04b0ddf0f233",
   "metadata": {},
   "outputs": [],
   "source": [
    "\"\"\"\n",
    "Q2. Give advantages and disadvantages of using API.\n",
    "\"\"\"\n",
    "\n",
    "\"\"\"\n",
    "Advantages\n",
    "----------\n",
    "1. Efficiency: API produces efficient, quicker, and more reliable results.\n",
    "2. Flexible delivery of services: API provides fast and flexible delivery of services according to developer’s requirements.\n",
    "3. Integration: The best feature of API is that it allows the movement of data between various sites and thus enhances the integrated user experience.\n",
    "\n",
    "Disadvantages\n",
    "-------------\n",
    "1. Security Issues: As a single point of entry, an API is a gateway and can become a hacker's primary target. Once the API is compromised, all other applications and systems become vulnerable.\n",
    "2. Cost: Providing an API is expensive in terms of development time, ongoing maintenance, providing API documentation on your website and providing support to users of your API.\n",
    "\"\"\""
   ]
  },
  {
   "cell_type": "code",
   "execution_count": null,
   "id": "e48767ef-878d-447f-ad5d-0647592f26ad",
   "metadata": {},
   "outputs": [],
   "source": [
    "\"\"\"\n",
    "Q3. What is a Web API? Differentiate between API and Web API.\n",
    "\"\"\"\n",
    "\n",
    "\"\"\"\n",
    "Web API is an API as the name suggests, it can be accessed over the web using the HTTP protocol.\n",
    "\n",
    "Web API is subset of API\n",
    "API use HTTP, TCP, SMTP protocol whereas Web API use HTTP protocol"
   ]
  },
  {
   "cell_type": "code",
   "execution_count": null,
   "id": "bc7a4c2f-5213-4ab4-a69c-d6a05511c9da",
   "metadata": {},
   "outputs": [],
   "source": [
    "\"\"\"\n",
    "Q4. Explain REST and SOAP Architecture. Mention shortcomings of SOAP.\n",
    "\"\"\"\n",
    "\n",
    "\"\"\"\n",
    "REST Architecture\n",
    "-----------------\n",
    "1. Client-Server: REST application should have a client-server architecture. A Client is someone who is requesting resources and server is someone who holds the resources and are not concerned with the user interface or user state.\n",
    "2. Uniform Interface: There should be an uniform way of interacting with a given server irrespective of device or type of application (website, mobile app). \n",
    "3. Stateless: It means that the necessary state to handle the request is contained within the request itself and server would not store anything related to the session\n",
    "4. Cacheable: Every response should include whether the response is cacheable or not and for how much duration responses can be cached at the client side.\n",
    "5. Layered system: An application architecture needs to be composed of multiple layers. Each layer doesn’t know any thing about any layer other than that of immediate layer.\n",
    "\n",
    "SOAP Architecture\n",
    "-----------------\n",
    "\n",
    "The SOAP web services architecture is based on interactions between three components: a service provider, a service requester, and an optional service registry.\n",
    "1. Service Provider: The collection of software that provides a web service.\n",
    "2. Service Requester: The collection of software that is responsible for requesting a web service from a service provider.\n",
    "3. Service Registry: It is a central location where service providers can publish their service descriptions and where service requesters can find those service descriptions.\n",
    "\"\"\""
   ]
  },
  {
   "cell_type": "code",
   "execution_count": null,
   "id": "b7ee0d59-ff36-4177-b044-fe24aa42ed13",
   "metadata": {},
   "outputs": [],
   "source": [
    "\"\"\"\n",
    "Q5. Differentiate between REST and SOAP.\n",
    "\n",
    "1. REST stands for Representational State Transfer and SOAP stands for Simple Object Access Protocol.\n",
    "2. REST uses XML, JSON, Plain-text for exchanging information in its message format whereas SOAP is only restricted to XML\n",
    "3. REST works with GET, POST, PUT, DELETE whereas SOAP works with WSDL\n",
    "4. REST is more flexible than SOAP\n",
    "5. REST is easy to implement and scale then SOAP\n",
    "6. REST is less secure than SOAP\n",
    "\"\"\""
   ]
  }
 ],
 "metadata": {
  "kernelspec": {
   "display_name": "Python 3 (ipykernel)",
   "language": "python",
   "name": "python3"
  },
  "language_info": {
   "codemirror_mode": {
    "name": "ipython",
    "version": 3
   },
   "file_extension": ".py",
   "mimetype": "text/x-python",
   "name": "python",
   "nbconvert_exporter": "python",
   "pygments_lexer": "ipython3",
   "version": "3.10.8"
  }
 },
 "nbformat": 4,
 "nbformat_minor": 5
}
