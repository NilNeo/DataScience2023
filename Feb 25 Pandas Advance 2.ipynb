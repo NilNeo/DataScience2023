{
 "cells": [
  {
   "cell_type": "code",
   "execution_count": 29,
   "id": "eb432019-10d3-4d61-b3c6-6fc1e9bea473",
   "metadata": {},
   "outputs": [
    {
     "name": "stdout",
     "output_type": "stream",
     "text": [
      "        course_name  duration\n",
      "0      Data Science         2\n",
      "1  Machine Learning         3\n",
      "2          Big Data         6\n",
      "3     Data Engineer         4\n"
     ]
    }
   ],
   "source": [
    "\"\"\"\n",
    "Consider following code to answer further questions:\n",
    "\"\"\"\n",
    "import pandas as pd\n",
    "course_name = ['Data Science', 'Machine Learning', 'Big Data', 'Data Engineer']\n",
    "duration = [2,3,6,4]\n",
    "df = pd.DataFrame(data = {'course_name' : course_name, 'duration' : duration})\n",
    "print(df)"
   ]
  },
  {
   "cell_type": "code",
   "execution_count": 30,
   "id": "1507efcb-e3f6-4e1a-aa46-423fcd3ea763",
   "metadata": {},
   "outputs": [
    {
     "name": "stdout",
     "output_type": "stream",
     "text": [
      "course_name    Machine Learning\n",
      "duration                      3\n",
      "Name: 1, dtype: object\n"
     ]
    }
   ],
   "source": [
    "\"\"\"\n",
    "Q1. Write a code to print the data present in the second row of the dataframe, df.\n",
    "\"\"\"\n",
    "print(df.iloc[1])"
   ]
  },
  {
   "cell_type": "code",
   "execution_count": 31,
   "id": "2f57e580-65c0-421b-94c9-3d89f1aa5d69",
   "metadata": {},
   "outputs": [
    {
     "name": "stdout",
     "output_type": "stream",
     "text": [
      "loc() \n",
      "             max_speed  shield\n",
      "cobra               1       2\n",
      "sidewinder          7       8 \n",
      "\n",
      "iloc() \n",
      "             max_speed  shield\n",
      "cobra               1       2\n",
      "sidewinder          7       8 \n",
      "\n"
     ]
    }
   ],
   "source": [
    "\"\"\"\n",
    "Q2. What is the difference between the functions loc and iloc in pandas.DataFrame?\n",
    "\"\"\"\n",
    "\"\"\"\n",
    "loc\n",
    "----\n",
    "data selection by index label\n",
    "This method includes the last element of the range passed in it\n",
    "\n",
    "iloc\n",
    "----\n",
    "data selection by index position\n",
    "This method does not includes the last element of the range passed in it\n",
    "\"\"\"\n",
    "df1 = pd.DataFrame([[1, 2], [4, 5], [7, 8]],\n",
    "                   index   = ['cobra', 'viper', 'sidewinder'],\n",
    "                   columns = ['max_speed', 'shield']\n",
    "                   )\n",
    "\n",
    "print('loc() \\n', df1.loc[['cobra', 'sidewinder']], '\\n')\n",
    "\n",
    "print('iloc() \\n', df1.iloc[[0, 2]], '\\n')"
   ]
  },
  {
   "cell_type": "code",
   "execution_count": 32,
   "id": "a7e1a1ba-a93d-4e03-a26e-78c87cb11ec9",
   "metadata": {},
   "outputs": [
    {
     "name": "stdout",
     "output_type": "stream",
     "text": [
      "df1 \n",
      "    column_1  column_2  column_3  column_4  column_5  column_6\n",
      "1  0.526156  0.529596  0.925740  0.109386  0.192702  0.988688\n",
      "2  0.171702  0.469222  0.691520  0.293099  0.651453  0.206258\n",
      "3  0.412815  0.381890  0.688926  0.261472  0.186285  0.846203\n",
      "4  0.533323  0.373640  0.958460  0.904849  0.322212  0.373037\n",
      "5  0.624177  0.330857  0.398116  0.623846  0.387569  0.426342\n",
      "6  0.100459  0.470854  0.687280  0.318744  0.536856  0.703383 \n",
      "\n",
      "new_df \n",
      "    column_1  column_2  column_3  column_4  column_5  column_6\n",
      "3  0.412815  0.381890  0.688926  0.261472  0.186285  0.846203\n",
      "0       NaN       NaN       NaN       NaN       NaN       NaN\n",
      "1  0.526156  0.529596  0.925740  0.109386  0.192702  0.988688\n",
      "2  0.171702  0.469222  0.691520  0.293099  0.651453  0.206258 \n",
      "\n",
      "new_df.loc[2] \n",
      " column_1    0.171702\n",
      "column_2    0.469222\n",
      "column_3    0.691520\n",
      "column_4    0.293099\n",
      "column_5    0.651453\n",
      "column_6    0.206258\n",
      "Name: 2, dtype: float64 \n",
      "\n",
      "new_df.iloc[2] \n",
      " column_1    0.526156\n",
      "column_2    0.529596\n",
      "column_3    0.925740\n",
      "column_4    0.109386\n",
      "column_5    0.192702\n",
      "column_6    0.988688\n",
      "Name: 1, dtype: float64 \n",
      "\n"
     ]
    }
   ],
   "source": [
    "\"\"\"\n",
    "Q3. Reindex the given dataframe using a variable, reindex = [3,0,1,2] and store it in the variable, new_df\n",
    "then find the output for both new_df.loc[2] and new_df.iloc[2].\n",
    "\n",
    "Did you observe any difference in both the outputs? If so then explain it.\n",
    "Consider the below code to answer further questions:\n",
    "\"\"\"\n",
    "import pandas as pd\n",
    "import numpy as np\n",
    "\n",
    "columns = ['column_1', 'column_2', 'column_3', 'column_4', 'column_5', 'column_6']\n",
    "indices = [1,2,3,4,5,6]\n",
    "\n",
    "df1 = pd.DataFrame(np.random.rand(6,6), columns = columns, index = indices)\n",
    "print('df1 \\n', df1, '\\n')\n",
    "\n",
    "new_df = df1.reindex( [3,0,1,2] )\n",
    "print('new_df \\n', new_df, '\\n')\n",
    "\n",
    "print('new_df.loc[2] \\n', new_df.loc[2], '\\n')\n",
    "print('new_df.iloc[2] \\n', new_df.iloc[2], '\\n')\n",
    "\n",
    "# loc considers index as labels hence returning row where index is 2\n",
    "# iloc works with index position hence it is providing row where index position is 2 (index = 1 as it starts from 0) and not where index is 2 "
   ]
  },
  {
   "cell_type": "code",
   "execution_count": 33,
   "id": "34632d4a-8afd-4afa-9572-991b19cb02e2",
   "metadata": {},
   "outputs": [
    {
     "name": "stdout",
     "output_type": "stream",
     "text": [
      "df1 \n",
      "    column_1  column_2  column_3  column_4  column_5  column_6\n",
      "1  0.526156  0.529596  0.925740  0.109386  0.192702  0.988688\n",
      "2  0.171702  0.469222  0.691520  0.293099  0.651453  0.206258\n",
      "3  0.412815  0.381890  0.688926  0.261472  0.186285  0.846203\n",
      "4  0.533323  0.373640  0.958460  0.904849  0.322212  0.373037\n",
      "5  0.624177  0.330857  0.398116  0.623846  0.387569  0.426342\n",
      "6  0.100459  0.470854  0.687280  0.318744  0.536856  0.703383 \n",
      "\n",
      "mean \n",
      " column_1    0.394772\n",
      "column_2    0.426010\n",
      "column_3    0.725007\n",
      "column_4    0.418566\n",
      "column_5    0.379513\n",
      "column_6    0.590652\n",
      "dtype: float64 \n",
      "\n",
      "standard deviation \n",
      " 0.07530181872733864 \n",
      "\n"
     ]
    }
   ],
   "source": [
    "\"\"\"\n",
    "Q4. Write a code to find the following statistical measurements for the above dataframe df1:\n",
    "(i) mean of each and every column present in the dataframe.\n",
    "(ii) standard deviation of column, ‘column_2’\n",
    "\"\"\"\n",
    "print('df1 \\n', df1, '\\n')\n",
    "print('mean \\n', df1.mean(axis = 0), '\\n')\n",
    "print('standard deviation \\n', df1['column_2'].std(), '\\n')\n"
   ]
  },
  {
   "cell_type": "code",
   "execution_count": 34,
   "id": "903cbf56-876c-4f06-871d-926e085d15e6",
   "metadata": {},
   "outputs": [
    {
     "name": "stdout",
     "output_type": "stream",
     "text": [
      "df1 \n",
      "    column_1  column_2  column_3  column_4  column_5  column_6\n",
      "1  0.526156  0.529596  0.925740  0.109386  0.192702  0.988688\n",
      "2  0.171702  0.469222  0.691520  0.293099  0.651453  0.206258\n",
      "3  0.412815  0.381890  0.688926  0.261472  0.186285  0.846203\n",
      "4  0.533323  0.373640  0.958460  0.904849  0.322212  0.373037\n",
      "5  0.624177  0.330857  0.398116  0.623846  0.387569  0.426342\n",
      "6  0.100459  0.470854  0.687280  0.318744  0.536856  0.703383 \n",
      "\n",
      "df1 \n",
      "    column_1  column_2  column_3  column_4  column_5  column_6\n",
      "1  0.526156  0.529596  0.925740  0.109386  0.192702  0.988688\n",
      "2  0.171702      Test  0.691520  0.293099  0.651453  0.206258\n",
      "3  0.412815   0.38189  0.688926  0.261472  0.186285  0.846203\n",
      "4  0.533323   0.37364  0.958460  0.904849  0.322212  0.373037\n",
      "5  0.624177  0.330857  0.398116  0.623846  0.387569  0.426342\n",
      "6  0.100459  0.470854  0.687280  0.318744  0.536856  0.703383 \n",
      "\n",
      "unsupported operand type(s) for +: 'float' and 'str'\n"
     ]
    }
   ],
   "source": [
    "\"\"\"\n",
    "Q5. Replace the data present in the second row of column, ‘column_2’ by a string variable then find the\n",
    "mean of column, column_2.\n",
    "If you are getting errors in executing it then explain why.\n",
    "[Hint: To replace the data use df1.loc[] and equate this to string data of your choice.]\n",
    "\"\"\"\n",
    "print('df1 \\n', df1, '\\n')\n",
    "df1['column_2'][2] = 'Test'\n",
    "print('df1 \\n', df1, '\\n')\n",
    "\n",
    "try:\n",
    "    print('mean of column_2 \\n', df1['column_2'].mean(), '\\n') \n",
    "except TypeError as e:\n",
    "    print(e)\n",
    "\n",
    "# TypeError: unsupported operand type(s) for +: 'float' and 'str'\n",
    "# mean only works on numeric data"
   ]
  },
  {
   "cell_type": "code",
   "execution_count": null,
   "id": "ef98ffc8-76f3-484d-90b3-5b569444a98d",
   "metadata": {},
   "outputs": [],
   "source": [
    "\"\"\"\n",
    "Q6. What do you understand about the windows function in pandas and list the types of windows\n",
    "functions?\n",
    "\"\"\"\n",
    "\n",
    "\"\"\"\n",
    "The window functions in Pandas are used to perform some sort of calculations across a set of rows that are interrelated with the current row\n",
    "\n",
    "1. rolling()\n",
    "It is used to perform rolling window calculations and is generally used in the case of signal processing data and time series data.\n",
    "Here the window size resembles the number of consecutive values to be taken into consideration at a time.\n",
    "\n",
    "Example - window size 2\n",
    "In the first step, it is going to contain the first row and one undefined (NaN) row.\n",
    "In the second step, the window moves and now contains the first and the second row.\n",
    "In the third step, the window moves again and no longer contains the first row.\n",
    "\n",
    "2. expanding()\n",
    "Here window = 1 indicates that in every step one additional row is added to the window\n",
    "\"\"\""
   ]
  },
  {
   "cell_type": "code",
   "execution_count": 35,
   "id": "f400f140-71f4-4b03-8d72-c41e567eb693",
   "metadata": {},
   "outputs": [
    {
     "name": "stdout",
     "output_type": "stream",
     "text": [
      "df \n",
      "                  Date\n",
      "0 2023-01-03 10:00:49\n",
      "1 2023-02-07 10:00:49\n",
      "2 2023-02-08 10:00:49\n",
      "3 2023-01-09 10:00:49\n",
      "4 2023-01-10 10:00:49 \n",
      "\n",
      "year-month\n",
      " 0    2023-01\n",
      "1    2023-02\n",
      "2    2023-02\n",
      "3    2023-01\n",
      "4    2023-01\n",
      "Name: Date, dtype: period[M]\n"
     ]
    }
   ],
   "source": [
    "\"\"\"\n",
    "Q7. Write a code to print only the current month and year at the time of answering this question.\n",
    "[Hint: Use pandas.datetime function]\n",
    "\"\"\"\n",
    "DATA = [ [ pd.Timestamp(year = 2023, month = 1, day = 3,  hour = 10, second = 49) ], \n",
    "         [ pd.Timestamp(year = 2023, month = 2, day = 7,  hour = 10, second = 49) ],\n",
    "         [ pd.Timestamp(year = 2023, month = 2, day = 8,  hour = 10, second = 49) ],\n",
    "         [ pd.Timestamp(year = 2023, month = 1, day = 9,  hour = 10, second = 49) ],\n",
    "         [ pd.Timestamp(year = 2023, month = 1, day = 10, hour = 10, second = 49) ],\n",
    "         ]\n",
    "\n",
    "df = pd.DataFrame(DATA, columns = ['Date'])\n",
    "print('df \\n', df, '\\n')\n",
    "\n",
    "\n",
    "print('year-month\\n', pd.to_datetime(df['Date']).dt.to_period('M'))"
   ]
  },
  {
   "cell_type": "code",
   "execution_count": 20,
   "id": "7227795a-2906-41df-9e7a-d2f771c2e95d",
   "metadata": {},
   "outputs": [
    {
     "name": "stdin",
     "output_type": "stream",
     "text": [
      "Enter Date 1 in YYYY-MM-DD format 2023-03-21\n",
      "Enter Date 2 in YYYY-MM-DD format 2023-03-10\n"
     ]
    },
    {
     "name": "stdout",
     "output_type": "stream",
     "text": [
      "\n",
      " 2023-03-21 00:00:00 2023-03-10 00:00:00 \n",
      "\n",
      "Difference between Date 2 and Date 1 in Days    : -11\n",
      "Difference between Date 2 and Date 1 in Hours   : -264\n",
      "Difference between Date 2 and Date 1 in Minutes : -15840\n"
     ]
    }
   ],
   "source": [
    "\"\"\"\n",
    "Q8. Write a Python program that takes in two dates as input (in the format YYYY-MM-DD) and\n",
    "calculates the difference between them in days, hours, and minutes using Pandas time delta. The\n",
    "program should prompt the user to enter the dates and display the result.\n",
    "\"\"\"\n",
    "import datetime\n",
    "\n",
    "d1 = pd.to_datetime(input(\"Enter Date 1 in YYYY-MM-DD format\"))\n",
    "d2 = pd.to_datetime(input(\"Enter Date 2 in YYYY-MM-DD format\"))\n",
    "\n",
    "print('\\n', d1, d2, '\\n')\n",
    "\n",
    "def diffDates(d1, d2):\n",
    "    print(f\"Difference between Date 2 and Date 1 in Days    : {pd.Timedelta(d2 - d1).days}\")\n",
    "    print(f\"Difference between Date 2 and Date 1 in Hours   : {pd.Timedelta(d2 - d1).days * 24}\")\n",
    "    print(f\"Difference between Date 2 and Date 1 in Minutes : {pd.Timedelta(d2 - d1).days * 24 * 60}\")\n",
    "    \n",
    "diffDates(d1, d2)\n"
   ]
  },
  {
   "cell_type": "code",
   "execution_count": 32,
   "id": "ba6c76ab-2f62-4120-aaaa-000b7c80e27b",
   "metadata": {},
   "outputs": [
    {
     "name": "stdin",
     "output_type": "stream",
     "text": [
      "Enter file path                      :  /home/jovyan/work/DataSets/titanic.csv\n",
      "Enter categorical column name        :  Sex\n",
      "Enter comma seperated category order :  female,male\n"
     ]
    },
    {
     "name": "stdout",
     "output_type": "stream",
     "text": [
      "\n",
      " 0        male\n",
      "1      female\n",
      "2      female\n",
      "3      female\n",
      "4        male\n",
      "        ...  \n",
      "886      male\n",
      "887    female\n",
      "888    female\n",
      "889      male\n",
      "890      male\n",
      "Name: Sex, Length: 891, dtype: category\n",
      "Categories (2, object): ['female' < 'male']\n"
     ]
    }
   ],
   "source": [
    "\"\"\"\n",
    "Q9. Write a Python program that reads a CSV file containing categorical data and converts a specified\n",
    "column to a categorical data type. The program should prompt the user to enter the file path, column\n",
    "name, and category order, and then display the sorted data.\n",
    "\"\"\"\n",
    "filePath = input(\"Enter file path                      : \")\n",
    "catCol   = input(\"Enter categorical column name        : \")\n",
    "catOrder = input(\"Enter comma seperated category order : \").split(',')\n",
    "\n",
    "df = pd.read_csv(filePath)\n",
    "df[catCol] = df[catCol].astype('category').cat.set_categories(catOrder, ordered=True)\n",
    "\n",
    "print('\\n', df[catCol])"
   ]
  },
  {
   "cell_type": "code",
   "execution_count": 5,
   "id": "dcf3209c-4094-4802-8c0e-f9326e80251c",
   "metadata": {},
   "outputs": [
    {
     "name": "stdin",
     "output_type": "stream",
     "text": [
      "Enter file path :  /home/jovyan/work/DataSets/company-sales.csv\n"
     ]
    },
    {
     "data": {
      "image/png": "[encoded data removed]",
      "text/plain": [
       "<Figure size 640x480 with 1 Axes>"
      ]
     },
     "metadata": {},
     "output_type": "display_data"
    }
   ],
   "source": [
    "\"\"\"\n",
    "Q10. Write a Python program that reads a CSV file containing sales data for different products and\n",
    "visualizes the data using a stacked bar chart to show the sales of each product category over time. The\n",
    "program should prompt the user to enter the file path and display the chart.\n",
    "\"\"\"\n",
    "import matplotlib.pyplot as plt\n",
    "\n",
    "filePath = input(\"Enter file path : \") # /home/jovyan/work/DataSets/company-sales.csv\n",
    "df       = pd.read_csv(filePath)\n",
    "\n",
    "df.plot(x='month_number', kind='bar', stacked=True,\n",
    "        title='Sales')\n",
    "plt.show()"
   ]
  },
  {
   "cell_type": "code",
   "execution_count": 28,
   "id": "dc44a8d4-46a8-4213-b4b7-4534a83ae0cf",
   "metadata": {},
   "outputs": [
    {
     "name": "stdin",
     "output_type": "stream",
     "text": [
      "Enter file path :  /home/jovyan/work/DataSets/student_data.csv\n"
     ]
    },
    {
     "name": "stdout",
     "output_type": "stream",
     "text": [
      "   Student ID  Test Score\n",
      "0           1          85\n",
      "1           2          90\n",
      "2           3          80\n",
      "3           4          75\n",
      "4           5          85\n",
      "5           6          82\n",
      "6           7          78\n",
      "7           8          85\n",
      "8           9          90\n",
      "9          10          85 \n",
      "\n",
      "  Statistic  Value\n",
      "0      Mean   83.5\n",
      "1    Median   85.0\n",
      "2      Mode   85.0\n"
     ]
    }
   ],
   "source": [
    "\"\"\"\n",
    "Q11. You are given a CSV file containing student data that includes the student ID and their test score. Write\n",
    "a Python program that reads the CSV file, calculates the mean, median, and mode of the test scores, and\n",
    "displays the results in a table.\n",
    "The program should do the followingM\n",
    "I Prompt the user to enter the file path of the CSV file containing the student dataR\n",
    "I Read the CSV file into a Pandas DataFrameR\n",
    "I Calculate the mean, median, and mode of the test scores using Pandas toolsR\n",
    "I Display the mean, median, and mode in a table.\n",
    "Assume the CSV file contains the following columnsM\n",
    "I Student ID: The ID of the studentR\n",
    "I Test Score: The score of the student's test.\n",
    "Example usage of the program:\n",
    "Enter the file path of the CSV file containing the student data: student_data.csv\n",
    "\n",
    "+-----------+--------+\n",
    "| Statistic | Value |\n",
    "+-----------+--------+\n",
    "| Mean | 79.6 |\n",
    "| Median | 82 |\n",
    "| Mode | 85, 90 |\n",
    "+-----------+--------+\n",
    "Assume that the CSV file student_data.csv contains the following data:\n",
    "Student ID,Test Score\n",
    "1,85\n",
    "2,90\n",
    "3,80\n",
    "4,75\n",
    "5,85\n",
    "6,82\n",
    "7,78\n",
    "8,85\n",
    "9,90\n",
    "10,85\n",
    "The program should calculate the mean, median, and mode of the test scores and display the results\n",
    "in a table.\n",
    "\"\"\"\n",
    "filePath = input(\"Enter file path : \") # /home/jovyan/work/DataSets/student_data.csv\n",
    "df       = pd.read_csv(filePath)\n",
    "\n",
    "print(df, '\\n')\n",
    "\n",
    "mean   = df['Test Score'].mean()\n",
    "median = df['Test Score'].median()\n",
    "mode   = list(df['Test Score'].mode())\n",
    "mode   = mode[0] if len(mode) == 1 else mode\n",
    "\n",
    "result = pd.DataFrame([['Mean', mean], ['Median', median], ['Mode', mode]],\n",
    "                      index   = list(range(0, 3)),\n",
    "                      columns = ['Statistic', 'Value']\n",
    "                      )\n",
    "\n",
    "print(result)"
   ]
  }
 ],
 "metadata": {
  "kernelspec": {
   "display_name": "Python 3 (ipykernel)",
   "language": "python",
   "name": "python3"
  },
  "language_info": {
   "codemirror_mode": {
    "name": "ipython",
    "version": 3
   },
   "file_extension": ".py",
   "mimetype": "text/x-python",
   "name": "python",
   "nbconvert_exporter": "python",
   "pygments_lexer": "ipython3",
   "version": "3.10.8"
  }
 },
 "nbformat": 4,
 "nbformat_minor": 5
}
