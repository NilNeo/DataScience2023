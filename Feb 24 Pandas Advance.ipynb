{
 "cells": [
  {
   "cell_type": "code",
   "execution_count": 36,
   "id": "70b9c6b1-563e-4eaf-9974-fe8acddbdf7a",
   "metadata": {},
   "outputs": [
    {
     "name": "stdout",
     "output_type": "stream",
     "text": [
      "Series() \n",
      "\n",
      " 0    1\n",
      "1    2\n",
      "2    3\n",
      "3    4\n",
      "dtype: int64 \n",
      "\n",
      "DataFrame() \n",
      "\n",
      "    k   Text\n",
      "0  1    One\n",
      "1  2    Two\n",
      "2  3  Three \n",
      "\n",
      "Categorical() \n",
      "\n",
      " [0, 2, 9, 1, 9, 1]\n",
      "Categories (4, int64): [0, 1, 2, 9] \n",
      "\n",
      "to_datetime() \n",
      "\n",
      " k                     object\n",
      "DateString            object\n",
      "Date          datetime64[ns]\n",
      "dtype: object \n",
      "\n",
      "unique() \n",
      "\n",
      " ['A' 'B' 'D' 'C'] \n",
      "\n"
     ]
    }
   ],
   "source": [
    "\"\"\"\n",
    "Q1. List any five functions of the pandas library with execution.\n",
    "\"\"\"\n",
    "import pandas as pd\n",
    "# Series() : used to create Series, a collection of homogeneos data\n",
    "s = pd.Series([1, 2, 3, 4])\n",
    "print('Series() \\n\\n', s, '\\n')\n",
    "\n",
    "# DataFrame() : used to create DataFrame\n",
    "df = pd.DataFrame([[1, 'One'], [2, 'Two'], [3, 'Three']], columns = ['k', 'Text'])\n",
    "print('DataFrame() \\n\\n', df, '\\n')\n",
    "\n",
    "# Categorical : they are pandas data type that corresponds to the categorical variables in statistics\n",
    "c = pd.Categorical([0, 2, 9, 1, 9, 1])\n",
    "print('Categorical() \\n\\n', c, '\\n')\n",
    "\n",
    "# to_datetime: used to convert string Date time into Python Date time object.\n",
    "df = pd.DataFrame([['d1', '2023-03-01'], ['d2', '2023-03-02'], ['d3', '2023-03-03'], ['d4', '2023-03-04']], columns = ['k', 'DateString'])\n",
    "df['Date'] = pd.to_datetime(df['DateString'])\n",
    "print('to_datetime() \\n\\n', df.dtypes, '\\n')\n",
    "\n",
    "# unique() : returns unique values in a particular column\n",
    "df = pd.DataFrame(['A', 'B', 'A', 'D', 'B', 'C'], columns = ['Text'])\n",
    "print('unique() \\n', pd.unique(df['Text']), '\\n')"
   ]
  },
  {
   "cell_type": "code",
   "execution_count": 23,
   "id": "ac767c98-c7de-47e6-890b-c610e084727b",
   "metadata": {},
   "outputs": [
    {
     "name": "stdout",
     "output_type": "stream",
     "text": [
      "   A  B  C\n",
      "0  0  0  0\n",
      "1  1  1  1\n",
      "2  2  2  2\n",
      "3  3  3  3\n",
      "4  4  4  4 \n",
      "\n",
      "After Re-Indexing \n",
      "    A  B  C\n",
      "1  0  0  0\n",
      "3  1  1  1\n",
      "5  2  2  2\n",
      "7  3  3  3\n",
      "9  4  4  4\n"
     ]
    }
   ],
   "source": [
    "\"\"\"\n",
    "Q2. Given a Pandas DataFrame df with columns 'A', 'B', and 'C', write a Python function to re-index the\n",
    "DataFrame with a new index that starts from 1 and increments by 2 for each row.\n",
    "\"\"\"\n",
    "import pandas as pd\n",
    "import numpy as np\n",
    "\n",
    "df = pd.DataFrame([[0, 0, 0], [1, 1, 1], [2, 2, 2], [3, 3, 3], [4, 4, 4]],\n",
    "                  columns = ['A', 'B', 'C']\n",
    "                  )\n",
    "print(df, '\\n')\n",
    "\n",
    "df.index = [i for i in np.arange(1,(len(df)*2)+1,2)]\n",
    "\n",
    "print(\"After Re-Indexing \\n\", df)"
   ]
  },
  {
   "cell_type": "code",
   "execution_count": 22,
   "id": "a12fb73e-44dd-40dc-ab4f-84ee7a23f743",
   "metadata": {},
   "outputs": [
    {
     "name": "stdout",
     "output_type": "stream",
     "text": [
      "   k  values\n",
      "0  a      10\n",
      "1  b      20\n",
      "2  c      30\n",
      "3  d      40\n",
      "4  e      50 \n",
      "\n",
      "Sum of first three elements in values column is 60\n"
     ]
    }
   ],
   "source": [
    "\"\"\"\n",
    "Q3. You have a Pandas DataFrame df with a column named 'Values'. Write a Python function that\n",
    "iterates over the DataFrame and calculates the sum of the first three values in the 'Values' column. The\n",
    "function should print the sum to the console.\n",
    "For example, if the 'Values' column of df contains the values [10, 20, 30, 40, 50], your function should\n",
    "calculate and print the sum of the first three values, which is 60.\n",
    "\"\"\"\n",
    "import pandas as pd\n",
    "\n",
    "df = pd.DataFrame([['a', 10], ['b', 20], ['c', 30], ['d', 40], ['e', 50]],\n",
    "                  columns = ('k', 'values')\n",
    "                 )\n",
    "print(df, '\\n')\n",
    "\n",
    "def sumFirstThreeValues(df):\n",
    "    sum = 0\n",
    "    i   = 0\n",
    "    for row in df.itertuples():\n",
    "        if i != 3:\n",
    "            i += 1\n",
    "            sum += row.values\n",
    "        else:\n",
    "            break\n",
    "            \n",
    "    print(f\"Sum of first three elements in values column is {sum}\")\n",
    "    \n",
    "sumFirstThreeValues(df)"
   ]
  },
  {
   "cell_type": "code",
   "execution_count": 21,
   "id": "cfa6305b-cda1-4250-b205-d4e79362e197",
   "metadata": {},
   "outputs": [
    {
     "name": "stdout",
     "output_type": "stream",
     "text": [
      "   k        Text\n",
      "0  p      Python\n",
      "1  j  Javascript\n",
      "2  s       Scala \n",
      "\n",
      "after Word_Count \n",
      "    k        Text  Word_Count\n",
      "0  p      Python           6\n",
      "1  j  Javascript          10\n",
      "2  s       Scala           5\n"
     ]
    }
   ],
   "source": [
    "\"\"\"\n",
    "Q4. Given a Pandas DataFrame df with a column 'Text', write a Python function to create a new column\n",
    "'Word_Count' that contains the number of words in each row of the 'Text' column.\n",
    "\"\"\"\n",
    "import pandas as pd\n",
    "\n",
    "df = pd.DataFrame([['p', 'Python'], ['j', 'Javascript'], ['s', 'Scala']],\n",
    "                  columns = ('k', 'Text')\n",
    "                 )\n",
    "print(df, '\\n')\n",
    "\n",
    "def addWordCount(df):\n",
    "    df['Word_Count'] = [ len(t) for t in list(df.Text) ]\n",
    "    print(\"after Word_Count \\n\", df)\n",
    "    \n",
    "addWordCount(df)"
   ]
  },
  {
   "cell_type": "code",
   "execution_count": 20,
   "id": "38f37c31-0896-4479-83dc-8953e7a013a0",
   "metadata": {},
   "outputs": [
    {
     "name": "stdout",
     "output_type": "stream",
     "text": [
      "   a  b\n",
      "0  1  2\n",
      "1  3  4\n",
      "2  5  6 \n",
      "\n",
      "size - 6, shape - (3, 2)\n"
     ]
    }
   ],
   "source": [
    "\"\"\"\n",
    "Q5. How are DataFrame.size() and DataFrame.shape() different?\n",
    "\"\"\"\n",
    "# DataFrame.size  - returns number of elements in the DataFrame\n",
    "# DataFrame.shape - return dimensionality of the DataFrame\n",
    "\n",
    "import pandas as pd\n",
    "\n",
    "df = pd.DataFrame([[1,2],[3,4],[5,6]], columns = ['a','b'])\n",
    "\n",
    "print(df, '\\n')\n",
    "print(f\"size - {df.size}, shape - {df.shape}\")"
   ]
  },
  {
   "cell_type": "code",
   "execution_count": null,
   "id": "b082f038-230d-4385-8911-60272723d050",
   "metadata": {},
   "outputs": [],
   "source": [
    "\"\"\"\n",
    "Q6. Which function of pandas do we use to read an excel file?\n",
    "\"\"\"\n",
    "# pandas.read_excel"
   ]
  },
  {
   "cell_type": "code",
   "execution_count": 19,
   "id": "84fc2ed4-c932-42dc-bce0-74cd56ddad9c",
   "metadata": {},
   "outputs": [
    {
     "name": "stdout",
     "output_type": "stream",
     "text": [
      "   k                  Email\n",
      "0  a      c.v.raman@abc.com\n",
      "1  b  homi.j.bhabha@abc.com\n",
      "2  c   Visvesvaraya@abc.com \n",
      "\n",
      "after UserName column \n",
      "    k                  Email       UserName\n",
      "0  a      c.v.raman@abc.com      c.v.raman\n",
      "1  b  homi.j.bhabha@abc.com  homi.j.bhabha\n",
      "2  c   Visvesvaraya@abc.com   Visvesvaraya\n"
     ]
    }
   ],
   "source": [
    "\"\"\"\n",
    "Q7. You have a Pandas DataFrame df that contains a column named 'Email' that contains email\n",
    "addresses in the format 'username@domain.com'. Write a Python function that creates a new column\n",
    "'Username' in df that contains only the username part of each email address.\n",
    "The username is the part of the email address that appears before the '@' symbol. For example, if the\n",
    "email address is 'john.doe@example.com', the 'Username' column should contain 'john.doe'. Your\n",
    "function should extract the username from each email address and store it in the new 'Username'\n",
    "column.\n",
    "\"\"\"\n",
    "import pandas as pd\n",
    "\n",
    "df = pd.DataFrame([['a', 'c.v.raman@abc.com'], ['b', 'homi.j.bhabha@abc.com'], ['c', 'Visvesvaraya@abc.com']],\n",
    "                  columns = ['k', 'Email']\n",
    "                 )\n",
    "\n",
    "print(df, '\\n')\n",
    "\n",
    "def addUsername(df):\n",
    "    df['UserName'] = df.apply(lambda row: row[\"Email\"].split('@')[0], axis=1)\n",
    "    print('after UserName column \\n', df)\n",
    "    \n",
    "addUsername(df)"
   ]
  },
  {
   "cell_type": "code",
   "execution_count": 18,
   "id": "ce3b39e1-2ad1-4ccc-a310-ce8183ea099e",
   "metadata": {},
   "outputs": [
    {
     "name": "stdout",
     "output_type": "stream",
     "text": [
      "   A  B  C\n",
      "0  3  5  1\n",
      "1  8  2  7\n",
      "2  6  9  4\n",
      "3  2  3  5\n",
      "4  9  1  2 \n",
      "\n",
      "Filtered DF \n",
      "    A  B  C\n",
      "1  8  2  7\n",
      "2  6  9  4\n",
      "4  9  1  2\n"
     ]
    }
   ],
   "source": [
    "\"\"\"\n",
    "Q8. You have a Pandas DataFrame df with columns 'A', 'B', and 'C'. Write a Python function that selects\n",
    "all rows where the value in column 'A' is greater than 5 and the value in column 'B' is less than 10. The\n",
    "function should return a new DataFrame that contains only the selected rows.\n",
    "For example, if df contains the following values:\n",
    "A B C\n",
    "0 3 5 1\n",
    "1 8 2 7\n",
    "2 6 9 4\n",
    "3 2 3 5\n",
    "4 9 1 2\n",
    "Your function should select the following rows: A B C\n",
    "1 8 2 7\n",
    "4 9 1 2\n",
    "The function should return a new DataFrame that contains only the selected rows.\n",
    "\"\"\"\n",
    "import pandas as pd\n",
    "\n",
    "df = pd.DataFrame([[3, 5, 1],[8, 2, 7],[6, 9, 4],[2, 3, 5],[9, 1, 2]],\n",
    "                  columns = ['A', 'B', 'C'])\n",
    "\n",
    "print(df, '\\n')\n",
    "\n",
    "def filterDF(df):\n",
    "    return df[ ( df['A'] > 5 ) & ( df['B'] < 10 ) ]\n",
    "\n",
    "print('Filtered DF \\n', filterDF(df))"
   ]
  },
  {
   "cell_type": "code",
   "execution_count": 17,
   "id": "182b7a3b-42c7-43a2-b935-af1b4694101f",
   "metadata": {},
   "outputs": [
    {
     "name": "stdout",
     "output_type": "stream",
     "text": [
      "   k  Values\n",
      "0  a       3\n",
      "1  b       8\n",
      "2  c       6\n",
      "3  d       2\n",
      "4  e       9 \n",
      "\n",
      "mean               : 5.6\n",
      "median             : 6.0\n",
      "standard deviation : 3.0495901363953815\n"
     ]
    }
   ],
   "source": [
    "\"\"\"\n",
    "Q9. Given a Pandas DataFrame df with a column 'Values', write a Python function to calculate the mean,\n",
    "median, and standard deviation of the values in the 'Values' column.\n",
    "\"\"\"\n",
    "import pandas as pd\n",
    "\n",
    "df = pd.DataFrame([['a', 3], ['b', 8], ['c', 6], ['d', 2], ['e', 9]],\n",
    "                  columns = ['k', 'Values'])\n",
    "\n",
    "print(df, '\\n')\n",
    "\n",
    "def calcStats(df):\n",
    "    print(f\"mean               : {df['Values'].mean()}\")\n",
    "    print(f\"median             : {df['Values'].median()}\")\n",
    "    print(f\"standard deviation : {df['Values'].std()}\")\n",
    "\n",
    "calcStats(df)"
   ]
  },
  {
   "cell_type": "code",
   "execution_count": 16,
   "id": "dccb896c-5551-4eb6-ac08-66514d07336f",
   "metadata": {},
   "outputs": [
    {
     "name": "stdout",
     "output_type": "stream",
     "text": [
      "                 Date  Sales       SMA_7\n",
      "0 2023-02-24 10:00:49     20         NaN\n",
      "1 2023-02-27 10:00:49     10         NaN\n",
      "2 2023-02-28 10:00:49     80         NaN\n",
      "3 2023-03-01 10:00:49    600         NaN\n",
      "4 2023-03-02 10:00:49     40         NaN\n",
      "5 2023-03-03 10:00:49    100         NaN\n",
      "6 2023-03-07 10:00:49    500  192.857143\n",
      "7 2023-03-08 10:00:49     40  195.714286\n",
      "8 2023-03-09 10:00:49    200  222.857143\n",
      "9 2023-03-10 10:00:49    400  268.571429\n"
     ]
    }
   ],
   "source": [
    "\"\"\"\n",
    "Q10. Given a Pandas DataFrame df with a column 'Sales' and a column 'Date', write a Python function to\n",
    "create a new column 'MovingAverage' that contains the moving average of the sales for the past 7 days\n",
    "for each row in the DataFrame. The moving average should be calculated using a window of size 7 and\n",
    "should include the current day.\n",
    "\"\"\"\n",
    "\n",
    "import pandas as pd\n",
    "\n",
    "DATA = [ [ pd.Timestamp(year = 2023, month = 2, day = 24, hour = 10, second = 49), 20  ],\n",
    "         [ pd.Timestamp(year = 2023, month = 2, day = 27, hour = 10, second = 49), 10  ],\n",
    "         [ pd.Timestamp(year = 2023, month = 2, day = 28, hour = 10, second = 49), 80  ],\n",
    "         [ pd.Timestamp(year = 2023, month = 3, day = 1,  hour = 10, second = 49), 600 ],\n",
    "         [ pd.Timestamp(year = 2023, month = 3, day = 2,  hour = 10, second = 49), 40  ],\n",
    "         [ pd.Timestamp(year = 2023, month = 3, day = 3,  hour = 10, second = 49), 100 ], \n",
    "         [ pd.Timestamp(year = 2023, month = 3, day = 7,  hour = 10, second = 49), 500 ],\n",
    "         [ pd.Timestamp(year = 2023, month = 3, day = 8,  hour = 10, second = 49), 40  ],\n",
    "         [ pd.Timestamp(year = 2023, month = 3, day = 9,  hour = 10, second = 49), 200 ],\n",
    "         [ pd.Timestamp(year = 2023, month = 3, day = 10, hour = 10, second = 49), 400 ],\n",
    "         ]\n",
    "\n",
    "df = pd.DataFrame(DATA, columns = ['Date', 'Sales'])\n",
    "\n",
    "df['SMA_7'] = df['Sales'].rolling(7, center=False).mean()\n",
    "\n",
    "print(df)"
   ]
  },
  {
   "cell_type": "code",
   "execution_count": 15,
   "id": "92d80ae5-0bc4-42ce-8511-603f401efab2",
   "metadata": {},
   "outputs": [
    {
     "name": "stdout",
     "output_type": "stream",
     "text": [
      "         Date\n",
      "0  2023-01-01\n",
      "1  2023-01-02\n",
      "2  2023-01-03\n",
      "3  2023-01-04\n",
      "4  2023-01-05 \n",
      "\n",
      "with weekday \n",
      "          Date    Weekday\n",
      "0  2023-01-01     Sunday\n",
      "1  2023-01-02     Monday\n",
      "2  2023-01-03    Tuesday\n",
      "3  2023-01-04  Wednesday\n",
      "4  2023-01-05   Thursday\n"
     ]
    }
   ],
   "source": [
    "\"\"\"\n",
    "Q11. You have a Pandas DataFrame df with a column 'Date'. Write a Python function that creates a new\n",
    "column 'Weekday' in the DataFrame. The 'Weekday' column should contain the weekday name (e.g.\n",
    "Monday, Tuesday) corresponding to each date in the 'Date' column.\n",
    "For example, if df contains the following values:\n",
    "Date\n",
    "0 2023-01-01\n",
    "1 2023-01-02\n",
    "2 2023-01-03\n",
    "3 2023-01-04\n",
    "4 2023-01-05\n",
    "Your function should create the following DataFrame:\n",
    "\n",
    "Date Weekday\n",
    "0 2023-01-01 Sunday\n",
    "1 2023-01-02 Monday\n",
    "2 2023-01-03 Tuesday\n",
    "3 2023-01-04 Wednesday\n",
    "4 2023-01-05 Thursday\n",
    "The function should return the modified DataFrame.\n",
    "\"\"\"\n",
    "import pandas as pd\n",
    "from datetime import date\n",
    "\n",
    "df = pd.DataFrame([date(2023, 1, 1), date(2023, 1, 2), date(2023, 1, 3), date(2023, 1, 4), date(2023, 1, 5)], columns = ['Date'])\n",
    "print(df, '\\n')\n",
    "\n",
    "def weekday(df):\n",
    "    df['Weekday'] = pd.to_datetime(df['Date']).dt.day_name()\n",
    "    return df\n",
    "\n",
    "print('with weekday \\n', weekday(df))"
   ]
  },
  {
   "cell_type": "code",
   "execution_count": 14,
   "id": "72388b67-b32e-43ca-8188-d5f5ecb94475",
   "metadata": {},
   "outputs": [
    {
     "name": "stdout",
     "output_type": "stream",
     "text": [
      "DF with date filter \n",
      "    k                Date\n",
      "0  a 2023-01-03 10:00:49\n",
      "3  d 2023-01-09 10:00:49\n",
      "4  e 2023-01-10 10:00:49\n"
     ]
    }
   ],
   "source": [
    "\"\"\"\n",
    "Q12. Given a Pandas DataFrame df with a column 'Date' that contains timestamps, write a Python\n",
    "function to select all rows where the date is between '2023-01-01' and '2023-01-31'.\n",
    "\"\"\"\n",
    "import pandas as pd\n",
    "from datetime import date\n",
    "\n",
    "DATA = [ [ 'a', pd.Timestamp(year = 2023, month = 1, day = 3,  hour = 10, second = 49) ], \n",
    "         [ 'b', pd.Timestamp(year = 2023, month = 2, day = 7,  hour = 10, second = 49) ],\n",
    "         [ 'c', pd.Timestamp(year = 2023, month = 2, day = 8,  hour = 10, second = 49) ],\n",
    "         [ 'd', pd.Timestamp(year = 2023, month = 1, day = 9,  hour = 10, second = 49) ],\n",
    "         [ 'e', pd.Timestamp(year = 2023, month = 1, day = 10, hour = 10, second = 49) ],\n",
    "         ]\n",
    "\n",
    "df = pd.DataFrame(DATA, columns = ['k', 'Date'])\n",
    "\n",
    "def dateFilter(df):\n",
    "    return df[ pd.to_datetime(df['Date']).dt.date.between(date(2023, 1, 1), date(2023, 1, 31)) ]\n",
    "\n",
    "print(\"DF with date filter \\n\", dateFilter(df))\n"
   ]
  },
  {
   "cell_type": "code",
   "execution_count": null,
   "id": "657e5c75-347e-4f07-8626-32180ce9854a",
   "metadata": {},
   "outputs": [],
   "source": [
    "\"\"\"\n",
    "Q13. To use the basic functions of pandas, what is the first and foremost necessary library that needs to\n",
    "be imported?\n",
    "\"\"\"\n",
    "# pandas"
   ]
  }
 ],
 "metadata": {
  "kernelspec": {
   "display_name": "Python 3 (ipykernel)",
   "language": "python",
   "name": "python3"
  },
  "language_info": {
   "codemirror_mode": {
    "name": "ipython",
    "version": 3
   },
   "file_extension": ".py",
   "mimetype": "text/x-python",
   "name": "python",
   "nbconvert_exporter": "python",
   "pygments_lexer": "ipython3",
   "version": "3.10.8"
  }
 },
 "nbformat": 4,
 "nbformat_minor": 5
}
