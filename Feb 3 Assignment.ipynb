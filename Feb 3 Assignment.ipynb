{
 "cells": [
  {
   "cell_type": "code",
   "execution_count": 11,
   "id": "51bfe18b-f0bc-48de-90b0-06f50f7ca1c3",
   "metadata": {},
   "outputs": [
    {
     "data": {
      "text/plain": [
       "[1, 3, 5, 7, 9, 11, 13, 15, 17, 19, 21, 23, 25]"
      ]
     },
     "execution_count": 11,
     "metadata": {},
     "output_type": "execute_result"
    }
   ],
   "source": [
    "\"\"\"\n",
    "Q1. Which keyword is used to create a function? Create a function to return a list of odd numbers in the\n",
    "range of 1 to 25.\n",
    "\"\"\"\n",
    "# def keyword is used to create a function\n",
    "def returnOdd():\n",
    "    ''' return a list of odd numbers in the range of 1 to 25 '''\n",
    "    return [ a for a in range(1, 26) if a % 2 == 1 ]\n",
    "\n",
    "returnOdd()"
   ]
  },
  {
   "cell_type": "code",
   "execution_count": 12,
   "id": "dbef9e8c-0a7e-4b2b-855c-f76349d54d6f",
   "metadata": {},
   "outputs": [
    {
     "name": "stdout",
     "output_type": "stream",
     "text": [
      "*args usage\n",
      "Nilesh travelled to Mumbai, Delhi, Pune, Jaipur\n",
      "\n",
      "**kwargs usage\n",
      "Nilesh travelled to Mumbai, Delhi in the month of Jan\n",
      "Nilesh travelled to Pune, Jaipur in the month of Feb\n"
     ]
    }
   ],
   "source": [
    "\"\"\"\n",
    "Q2. Why *args and **kwargs is used in some functions? Create a function each for *args and **kwargs to\n",
    "demonstrate their use.\n",
    "\"\"\"\n",
    "# To accept any number of position arguments we use *args and for any number of keyword arguments we use **kwargs in function\n",
    "print(\"*args usage\")\n",
    "def printCitiesTravelled(name, *args):\n",
    "    ''' prints name and cities provided in args '''\n",
    "    print('{} travelled to {}'.format(name, ', '.join(city for city in args)))\n",
    "    \n",
    "printCitiesTravelled('Nilesh', 'Mumbai', 'Delhi', 'Pune', 'Jaipur')\n",
    "\n",
    "print(\"\\n**kwargs usage\")\n",
    "def printCitiesTravelledByMonth(name, **kwargs):\n",
    "    ''' prints name and cities travelled by month '''\n",
    "    for month, cityList in kwargs.items():\n",
    "        print('{} travelled to {} in the month of {}'.format(name, ', '.join(city for city in cityList), month))\n",
    "\n",
    "printCitiesTravelledByMonth(name = 'Nilesh', Jan = ['Mumbai', 'Delhi'], Feb = ['Pune', 'Jaipur'])"
   ]
  },
  {
   "cell_type": "code",
   "execution_count": 10,
   "id": "5d60a150-5dc7-46c5-b46e-015fadbc954b",
   "metadata": {},
   "outputs": [
    {
     "name": "stdout",
     "output_type": "stream",
     "text": [
      "2\n",
      "4\n",
      "6\n",
      "8\n",
      "10\n"
     ]
    }
   ],
   "source": [
    "\"\"\"\n",
    "Q3. What is an iterator in python? Name the method used to initialise the iterator object and the method\n",
    "used for iteration. Use these methods to print the first five elements of the given list [2, 4, 6, 8, 10, 12, 14, 16,\n",
    "18, 20].\n",
    "\"\"\"\n",
    "# Iterator is a python object that can be iterated upon example list, tuple etc.\n",
    "# iter() method is used for initialization and next() is used for iteration\n",
    "noIterator = iter([2, 4, 6, 8, 10, 12, 14, 16, 18, 20])\n",
    "for i in range(0, 5):\n",
    "    print(next(noIterator))"
   ]
  },
  {
   "cell_type": "code",
   "execution_count": 32,
   "id": "876a62d4-6846-482d-9261-a28475ec8795",
   "metadata": {},
   "outputs": [
    {
     "name": "stdout",
     "output_type": "stream",
     "text": [
      "Table of 4 is\n",
      "4\n",
      "8\n",
      "12\n",
      "16\n",
      "20\n",
      "24\n",
      "28\n",
      "32\n",
      "36\n",
      "40\n"
     ]
    }
   ],
   "source": [
    "\"\"\"\n",
    "Q4. What is a generator function in python? Why yield keyword is used? Give an example of a generator\n",
    "function.\n",
    "\"\"\"\n",
    "# Function that returns iterator is called generator function.\n",
    "# yield returns value only when generator object is iterated\n",
    "def tableGenerator(no):\n",
    "    ''' iterator for table generation '''\n",
    "    for e in range(1, 11):\n",
    "        yield no * e\n",
    "        \n",
    "print('Table of 4 is')\n",
    "for a in tableGenerator(4):\n",
    "    print(a)"
   ]
  },
  {
   "cell_type": "code",
   "execution_count": 7,
   "id": "c94afceb-f6a2-4025-8ae0-369c5b17aedf",
   "metadata": {},
   "outputs": [
    {
     "name": "stdout",
     "output_type": "stream",
     "text": [
      "2\n",
      "3\n",
      "5\n",
      "7\n",
      "11\n",
      "13\n",
      "17\n",
      "19\n",
      "23\n",
      "29\n",
      "31\n",
      "37\n",
      "41\n",
      "43\n",
      "47\n",
      "53\n",
      "59\n",
      "61\n",
      "67\n",
      "71\n"
     ]
    }
   ],
   "source": [
    "\"\"\"\n",
    "Q5. Create a generator function for prime numbers less than 1000. Use the next() method to print the\n",
    "first 20 prime numbers.\n",
    "\"\"\"\n",
    "def primeGenerator():\n",
    "    for no in range(2, 1000):\n",
    "        isPrime = True\n",
    "        for i in range(2, int(no/2)+1):\n",
    "            if no % i == 0:\n",
    "                isPrime = False\n",
    "                break\n",
    "                \n",
    "        if isPrime:\n",
    "            yield no\n",
    "            \n",
    "primeGeneratorObj = primeGenerator()\n",
    "            \n",
    "for i in range(0, 20):\n",
    "    print(next(primeGeneratorObj))"
   ]
  }
 ],
 "metadata": {
  "kernelspec": {
   "display_name": "Python 3 (ipykernel)",
   "language": "python",
   "name": "python3"
  },
  "language_info": {
   "codemirror_mode": {
    "name": "ipython",
    "version": 3
   },
   "file_extension": ".py",
   "mimetype": "text/x-python",
   "name": "python",
   "nbconvert_exporter": "python",
   "pygments_lexer": "ipython3",
   "version": "3.10.8"
  }
 },
 "nbformat": 4,
 "nbformat_minor": 5
}
