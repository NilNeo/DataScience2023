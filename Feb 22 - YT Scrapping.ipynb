{
 "cells": [
  {
   "cell_type": "code",
   "execution_count": null,
   "id": "3c73616d-6f0c-475b-94d8-51507c91e289",
   "metadata": {},
   "outputs": [],
   "source": [
    "\"\"\"\n",
    "Go to this given URL and solve the following questions\n",
    "URL: https://www.youtube.com/@PW-Foundation/videos\n",
    "Q1. Write a python program to extract the video URL of the first five videos.\n",
    "Q2. Write a python program to extract the URL of the video thumbnails of the first five videos.\n",
    "Q3. Write a python program to extract the title of the first five videos.\n",
    "Q4. Write a python program to extract the number of views of the first five videos.\n",
    "Q5. Write a python program to extract the time of posting of video for the first five videos.\n",
    "Note: Save all the data scraped in the above questions in a CSV file.\n",
    "\"\"\"\n",
    "from selenium import webdriver\n",
    "from selenium.webdriver.common.by import By\n",
    "import unicodedata\n",
    "import time\n",
    "import csv\n",
    "\n",
    "URL = \"https://www.youtube.com/@PW-Foundation/videos\"\n",
    "\n",
    "def exportToCsv(dataList):\n",
    "    with open(r'E:\\Programming\\Python\\DS2023\\code\\top5.csv', 'w', newline='', encoding=\"utf-8\") as file:\n",
    "        writer = csv.writer(file)\n",
    "        \n",
    "        for r in dataList:\n",
    "            writer.writerow(r)\n",
    "\n",
    "def run():\n",
    "    top5Videos = [['TITLE', 'VIEWS', 'POSTED_ON', 'VIDEO_URL', 'THUMBNAIL_URL']]\n",
    "\n",
    "    driver = webdriver.Chrome(executable_path = \"E:\\Programming\\Python\\Driver\\chromedriver.exe\")\n",
    "    driver.maximize_window()\n",
    "    driver.get(URL)\n",
    "    time.sleep(15)\n",
    "    driver.execute_script(\"document.body.style.zoom='50%'\") # To load data for more videos\n",
    "    time.sleep(5)\n",
    "    \n",
    "    ytVideoDetails = driver.find_elements(By.ID, 'dismissible')\n",
    "    for vd in ytVideoDetails:\n",
    "        if len(top5Videos) <= 6:\n",
    "            \n",
    "            details      = vd.text.split('\\n')\n",
    "            if ':' in details[0]:\n",
    "                _ = details.pop(0) # Remove video duration\n",
    "\n",
    "            videoThumbnail = vd.find_element(By.ID, 'video-title-link')\n",
    "            videoUrl       = videoThumbnail.get_property('href')\n",
    "            thumbnailUrl   = vd.find_element(By.TAG_NAME, 'img').get_property('src')\n",
    "            title          = unicodedata.normalize('NFKC', videoThumbnail.get_property('title'))\n",
    "            views          = details[1]\n",
    "            postTime       = details[2]\n",
    "\n",
    "            top5Videos.append([title, views, postTime, videoUrl, thumbnailUrl])           \n",
    "        else:\n",
    "            break\n",
    "\n",
    "    exportToCsv(top5Videos)\n",
    "            \n",
    "if __name__ == '__main__':\n",
    "    run()"
   ]
  },
  {
   "cell_type": "markdown",
   "id": "5784eae2-6845-4e0c-adaa-786f81b10147",
   "metadata": {},
   "source": [
    "# CSV Data\n",
    "TITLE,VIEWS,POSTED_ON,VIDEO_URL,THUMBNAIL_URL\n",
    "Benefits of Choosing Commerce After 10th | Commerce क्यों लेना चाहिए? | CBSE | ICSE | State Boards,20K views,1 day ago,https://www.youtube.com/watch?v=S0RySN5arvk,https://i.ytimg.com/vi/S0RySN5arvk/hqdefault.jpg?sqp=-oaymwEcCNACELwBSFXyq4qpAw4IARUAAIhCGAFwAcABBg==&rs=AOn4CLBOhnoOmjXFZyCKcKSm5Q-ZERlrZQ\n",
    "Complete CARBON AND ITS COMPOUNDS in 90 Minutes | Class 10th Board Exam,38K views,4 days ago,https://www.youtube.com/watch?v=HzBhwxMrt8A,https://i.ytimg.com/vi/HzBhwxMrt8A/hqdefault.jpg?sqp=-oaymwEcCNACELwBSFXyq4qpAw4IARUAAIhCGAFwAcABBg==&rs=AOn4CLDxv8xtxXYKf6Zn58zMFt2mqVTTZw\n",
    "Complete METALS & NON METALS  in 120 Minutes | Class 10th Board Exam,21K views,4 days ago,https://www.youtube.com/watch?v=60_B3haKADw,https://i.ytimg.com/vi/60_B3haKADw/hqdefault.jpg?sqp=-oaymwEcCNACELwBSFXyq4qpAw4IARUAAIhCGAFwAcABBg==&rs=AOn4CLA9baY1YtDSZafi5-Ej4K4ehDrL_A\n",
    "\"Complete ACID, BASES AND SALT in 110 Minutes | Class 10th Board Exam\",18K views,4 days ago,https://www.youtube.com/watch?v=46CNHP9wBAs,https://i.ytimg.com/vi/46CNHP9wBAs/hqdefault.jpg?sqp=-oaymwEcCNACELwBSFXyq4qpAw4IARUAAIhCGAFwAcABBg==&rs=AOn4CLBjvT3nT1waDnGZ0G3r-csPJeQF9w\n",
    "Complete CHEMICAL REACTION  in 90 Minutes | Class 10th Board Exam,26K views,4 days ago,https://www.youtube.com/watch?v=1Wk5gJtZ2sQ,https://i.ytimg.com/vi/1Wk5gJtZ2sQ/hqdefault.jpg?sqp=-oaymwEcCNACELwBSFXyq4qpAw4IARUAAIhCGAFwAcABBg==&rs=AOn4CLB3qe5Gqbz5v_KD1pUUfRWeb60VHQ\n",
    "Complete HEREDITY AND EVOLUTION in 2 Hours|| Class 10th Board Exam,58K views,5 days ago,https://www.youtube.com/watch?v=iM_hVnElC-Q,https://i.ytimg.com/vi/iM_hVnElC-Q/hqdefault.jpg?sqp=-oaymwEcCNACELwBSFXyq4qpAw4IARUAAIhCGAFwAcABBg==&rs=AOn4CLBLOHeUia6L1Ui7ad9_DkhIAUwI7A\n"
   ]
  }
 ],
 "metadata": {
  "kernelspec": {
   "display_name": "Python 3 (ipykernel)",
   "language": "python",
   "name": "python3"
  },
  "language_info": {
   "codemirror_mode": {
    "name": "ipython",
    "version": 3
   },
   "file_extension": ".py",
   "mimetype": "text/x-python",
   "name": "python",
   "nbconvert_exporter": "python",
   "pygments_lexer": "ipython3",
   "version": "3.10.8"
  }
 },
 "nbformat": 4,
 "nbformat_minor": 5
}
