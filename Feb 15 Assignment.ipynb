{
 "cells": [
  {
   "cell_type": "code",
   "execution_count": null,
   "id": "34032e00-6fb4-437c-b257-a162ae98417c",
   "metadata": {},
   "outputs": [],
   "source": [
    "\"\"\"\n",
    "Q1. What is multiprocessing in python? Why is it useful?\n",
    "\"\"\"\n",
    "\n",
    "\"\"\"\n",
    "Multiprocessing is a mode of operation in which two or more processors simultaneously process two or more different processes (portions of the same program)\n",
    "Multiprocessing is acheived using multiprocessing module in python.\n",
    "Multiprocessing improve the performance of a program by using multiple processors.\n",
    "\"\"\""
   ]
  },
  {
   "cell_type": "code",
   "execution_count": null,
   "id": "9e1e8116-6746-490c-b1a8-0431a48ab1d2",
   "metadata": {},
   "outputs": [],
   "source": [
    "\"\"\"\n",
    "Q2. What are the differences between multiprocessing and multithreading?\n",
    "\"\"\"\n",
    "\n",
    "\"\"\"\n",
    "Multiprocessing runs multiple processes simultaneously within a single thread, while multithreading runs multiple threads simultaneously within a single process\n",
    "\"\"\" "
   ]
  },
  {
   "cell_type": "code",
   "execution_count": 23,
   "id": "001a3712-e6f6-4b58-87ed-e0ef3bb65a10",
   "metadata": {},
   "outputs": [
    {
     "name": "stdout",
     "output_type": "stream",
     "text": [
      "2023-02-16 02:16:46.337892\n"
     ]
    }
   ],
   "source": [
    "\"\"\"\n",
    "Q3. Write a python code to create a process using the multiprocessing module.\n",
    "\"\"\"\n",
    "import multiprocessing\n",
    "import datetime\n",
    "\n",
    "def printUTCTime():\n",
    "    print(datetime.datetime.utcnow())\n",
    "    \n",
    "if __name__ == '__main__':\n",
    "    p = multiprocessing.Process(target = printUTCTime)\n",
    "    p.start()\n",
    "    p.join()"
   ]
  },
  {
   "cell_type": "code",
   "execution_count": null,
   "id": "0574f75b-29d2-44f0-b9e0-b22089c5c61b",
   "metadata": {},
   "outputs": [],
   "source": [
    "\"\"\"\n",
    "Q4. What is a multiprocessing pool in python? Why is it used?\n",
    "\"\"\"\n",
    "\n",
    "\"\"\"\n",
    "A process pool is a programming pattern for automatically managing a pool of worker processes.\n",
    "The pool is responsible for a fixed number of processes.\n",
    "Python provides a process pool via the multiprocessing.Pool class.\n",
    "\n",
    "Multiprocessing pool is used for parallel execution of a function across multiple input values, distributing the input data across processes\n",
    "\"\"\""
   ]
  },
  {
   "cell_type": "code",
   "execution_count": 27,
   "id": "51b2a63d-26ce-425d-8513-b3dcca04bbc6",
   "metadata": {},
   "outputs": [
    {
     "name": "stdout",
     "output_type": "stream",
     "text": [
      "[(0, datetime.datetime(2023, 2, 16, 2, 18, 20, 440395)), (1, datetime.datetime(2023, 2, 16, 2, 18, 20, 440532)), (2, datetime.datetime(2023, 2, 16, 2, 18, 20, 440649)), (3, datetime.datetime(2023, 2, 16, 2, 18, 20, 440796)), (4, datetime.datetime(2023, 2, 16, 2, 18, 20, 440943)), (5, datetime.datetime(2023, 2, 16, 2, 18, 20, 441102)), (6, datetime.datetime(2023, 2, 16, 2, 18, 20, 441020)), (7, datetime.datetime(2023, 2, 16, 2, 18, 20, 441269)), (8, datetime.datetime(2023, 2, 16, 2, 18, 20, 441186)), (9, datetime.datetime(2023, 2, 16, 2, 18, 20, 441364))]\n"
     ]
    }
   ],
   "source": [
    "\"\"\"\n",
    "Q5. How can we create a pool of worker processes in python using the multiprocessing module?\n",
    "\"\"\"\n",
    "import multiprocessing\n",
    "import datetime\n",
    "\n",
    "def returnUTCTime(i):\n",
    "    return (i, datetime.datetime.utcnow())\n",
    "    \n",
    "if __name__ == '__main__':\n",
    "    with multiprocessing.Pool(processes = 10) as pool:\n",
    "        o = pool.map(returnUTCTime, range(10))\n",
    "        print(o)"
   ]
  },
  {
   "cell_type": "code",
   "execution_count": 25,
   "id": "4987cb35-9c78-4de5-826f-14fa72780107",
   "metadata": {},
   "outputs": [
    {
     "name": "stdout",
     "output_type": "stream",
     "text": [
      "[0, 1, 2, 3, 4, 5, 6, 7, 8, 9]\n",
      "0\n",
      "1\n",
      "2\n",
      "3\n"
     ]
    }
   ],
   "source": [
    "\"\"\"\n",
    "Q6. Write a python program to create 4 processes, each process should print a different number using the multiprocessing module in python.\n",
    "\"\"\"\n",
    "import multiprocessing\n",
    "\n",
    "def printNumber(i, l):\n",
    "    print(l[i])\n",
    "    \n",
    "if __name__ == '__main__':\n",
    "    l = multiprocessing.Array('i', range(10))\n",
    "    print(list(l))\n",
    "    \n",
    "    processes = []\n",
    "    for i in range(4):\n",
    "        p = multiprocessing.Process(target = printNumber, args = (i, l))\n",
    "        processes.append(p)\n",
    "        p.start()\n",
    "        \n",
    "    for p in processes:\n",
    "        p.join()"
   ]
  },
  {
   "cell_type": "code",
   "execution_count": null,
   "id": "5b7e76a5-86f6-4572-b619-05b1eaf8c7a2",
   "metadata": {},
   "outputs": [],
   "source": []
  }
 ],
 "metadata": {
  "kernelspec": {
   "display_name": "Python 3 (ipykernel)",
   "language": "python",
   "name": "python3"
  },
  "language_info": {
   "codemirror_mode": {
    "name": "ipython",
    "version": 3
   },
   "file_extension": ".py",
   "mimetype": "text/x-python",
   "name": "python",
   "nbconvert_exporter": "python",
   "pygments_lexer": "ipython3",
   "version": "3.10.8"
  }
 },
 "nbformat": 4,
 "nbformat_minor": 5
}
