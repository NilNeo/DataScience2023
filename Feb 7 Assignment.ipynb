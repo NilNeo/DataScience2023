{
 "cells": [
  {
   "cell_type": "code",
   "execution_count": 36,
   "id": "e04829f4-c6b6-4c0a-b8fd-6c950a1fd60f",
   "metadata": {},
   "outputs": [
    {
     "name": "stdout",
     "output_type": "stream",
     "text": [
      "aA1b@#!X24 --> Valid Password\n",
      "abc --> Invalid Password\n",
      "abcABC@!*A --> Invalid Password\n"
     ]
    }
   ],
   "source": [
    "\"\"\"\n",
    "Q1. You are writing code for a company. The requirement of the company is that you create a python\n",
    "function that will check whether the password entered by the user is correct or not. The function should\n",
    "take the password as input and return the string “Valid Password” if the entered password follows the\n",
    "below-given password guidelines else it should return “Invalid Password”.\n",
    "\n",
    "Note: \n",
    "1. The Password should contain at least two uppercase letters and at least two lowercase letters.\n",
    "2. The Password should contain at least a number and three special characters.\n",
    "3. The length of the password should be 10 characters long.\n",
    "\"\"\"\n",
    "import string\n",
    "LC_CHAR = list(string.ascii_lowercase)\n",
    "UC_CHAR = list(string.ascii_uppercase)\n",
    "NUM     = [ str(n) for n in range(0, 10)]\n",
    "SC_CHAR = list(string.punctuation)\n",
    "\n",
    "def validatePassword(password):\n",
    "    \n",
    "    if len(password) == 10:\n",
    "        lc_list = list(string.ascii_lowercase)\n",
    "        \n",
    "        lc = 0 # lower\n",
    "        uc = 0 # upper\n",
    "        sc = 0 # special\n",
    "        n  = 0 # numeric\n",
    "    \n",
    "        for c in password:\n",
    "            if c in LC_CHAR:\n",
    "                lc += 1\n",
    "                continue\n",
    "    \n",
    "            if c in UC_CHAR:\n",
    "                uc += 1\n",
    "                continue\n",
    "    \n",
    "            if c in NUM:\n",
    "                n += 1\n",
    "                continue\n",
    "    \n",
    "            if c in SC_CHAR:\n",
    "                sc += 1\n",
    "                continue\n",
    "                \n",
    "        if lc >= 2 and uc >= 2 and n > 0 and sc >= 3:\n",
    "            result = \"Valid Password\"\n",
    "        else:\n",
    "            result = \"Invalid Password\"\n",
    "    else:\n",
    "        result = \"Invalid Password\"\n",
    "    \n",
    "    return result\n",
    "\n",
    "for p in ['aA1b@#!X24', 'abc', 'abcABC@!*A']:\n",
    "    print(f\"{p} --> {validatePassword(p)}\")"
   ]
  },
  {
   "cell_type": "code",
   "execution_count": 37,
   "id": "238c0605-51c3-415f-b0d2-9ac93398bd0b",
   "metadata": {},
   "outputs": [
    {
     "name": "stdout",
     "output_type": "stream",
     "text": [
      "abcdefg --> Starts With 'a'\n",
      "wfehwoeifhowfw --> Doesn't Start With 'a'\n"
     ]
    }
   ],
   "source": [
    "\"\"\"\n",
    "Q2. Solve the below-given questions using at least one of the following:\n",
    "1. Lambda functio\n",
    "2. Filter functio\n",
    "3. Map functio\n",
    "4. List Comprehensio\n",
    "\n",
    "Check if the string starts with a particular letter.\n",
    "Check if the string is numeric.\n",
    "Sort a list of tuples having fruit names and their quantity. [(\"mango\",99),(\"orange\",80), (\"grapes\", 1000)]\n",
    "Find the squares of numbers from 1 to 10.\n",
    "Find the cube root of numbers from 1 to 10.\n",
    "Check if a given number is even.\n",
    "Filter odd numbers from the given list.\n",
    "[1,2,3,4,5,6,7,8,9,10]\n",
    "Sort a list of integers into positive and negative integers lists.\n",
    "[1,2,3,4,5,6,-1,-2,-3,-4,-5,0]\n",
    "\"\"\"\n",
    "\n",
    "# Check if the string starts with a particular letter.\n",
    "LETTER = 'a'\n",
    "\n",
    "for ip in [\"abcdefg\", \"wfehwoeifhowfw\"]:\n",
    "    op = [ f\"Starts With '{LETTER}'\" if c.startswith(LETTER) else f\"Doesn't Start With '{LETTER}'\" for c in ip[:1]][0]\n",
    "    print(f\"{ip} --> {op}\")"
   ]
  },
  {
   "cell_type": "code",
   "execution_count": 38,
   "id": "1dcaba9d-1488-4876-929b-d30ee53bd4d3",
   "metadata": {},
   "outputs": [
    {
     "name": "stdout",
     "output_type": "stream",
     "text": [
      "353454 True\n",
      "23s45345 False\n"
     ]
    }
   ],
   "source": [
    "# Check if the string is numeric.\n",
    "for s in ['353454', '23s45345']:\n",
    "    print(s, s.isnumeric())"
   ]
  },
  {
   "cell_type": "code",
   "execution_count": 39,
   "id": "fed912a7-8f66-4cd6-93fa-728341af2e23",
   "metadata": {},
   "outputs": [
    {
     "name": "stdout",
     "output_type": "stream",
     "text": [
      "[('orange', 80), ('mango', 99), ('grapes', 1000)]\n"
     ]
    }
   ],
   "source": [
    "# Sort a list of tuples having fruit names and their quantity. \n",
    "l = [(\"mango\",99),(\"orange\",80), (\"grapes\", 1000)]\n",
    "l.sort(key = lambda t: t[1])\n",
    "print(l)"
   ]
  },
  {
   "cell_type": "code",
   "execution_count": 40,
   "id": "dc874a9e-1ffc-4056-ad6c-b8d4541143dc",
   "metadata": {},
   "outputs": [
    {
     "name": "stdout",
     "output_type": "stream",
     "text": [
      "[1, 4, 9, 16, 25, 36, 49, 64, 81, 100]\n"
     ]
    }
   ],
   "source": [
    "# Find the squares of numbers from 1 to 10\n",
    "sq = list(map(lambda n: n**2, range(1, 11)))\n",
    "print(sq)"
   ]
  },
  {
   "cell_type": "code",
   "execution_count": 41,
   "id": "7949b704-1f74-42f7-9f4f-e6d134f5ba59",
   "metadata": {},
   "outputs": [
    {
     "name": "stdout",
     "output_type": "stream",
     "text": [
      "[1.0, 1.2599210498948732, 1.4422495703074083, 1.5874010519681994, 1.7099759466766968, 1.8171205928321397, 1.912931182772389, 2.0, 2.080083823051904, 2.154434690031884]\n"
     ]
    }
   ],
   "source": [
    "# Find the cube root of numbers from 1 to 10.\n",
    "import math\n",
    "\n",
    "cubeRoot = [ math.pow(n, 1/3) for n in range(1, 11)]\n",
    "print(cubeRoot)"
   ]
  },
  {
   "cell_type": "code",
   "execution_count": 42,
   "id": "95156f8c-fc20-4b6e-896e-e84debc636f2",
   "metadata": {},
   "outputs": [
    {
     "name": "stdout",
     "output_type": "stream",
     "text": [
      "1242350 True\n",
      "124235 False\n"
     ]
    }
   ],
   "source": [
    "# Check if a given number is even\n",
    "isEven = lambda a: True if a%2==0 else False\n",
    "\n",
    "for n in [1242350, 124235]:\n",
    "    print(n, isEven(n))"
   ]
  },
  {
   "cell_type": "code",
   "execution_count": 43,
   "id": "f5eea8cb-5bab-4cbb-8301-fe4240b30813",
   "metadata": {},
   "outputs": [
    {
     "name": "stdout",
     "output_type": "stream",
     "text": [
      "[1, 3, 5, 7, 9]\n"
     ]
    }
   ],
   "source": [
    "# Filter odd numbers from the given list.\n",
    "l = [1,2,3,4,5,6,7,8,9,10]\n",
    "r = list(filter(lambda a: a%2 != 0, l))\n",
    "print(r)"
   ]
  },
  {
   "cell_type": "code",
   "execution_count": 46,
   "id": "704226d9-93d6-4047-b826-33e0baf837bc",
   "metadata": {},
   "outputs": [
    {
     "name": "stdout",
     "output_type": "stream",
     "text": [
      "[1, 2, 3, 4, 5, 6, 0] [-1, -2, -3, -4, -5]\n"
     ]
    }
   ],
   "source": [
    "#Sort a list of integers into positive and negative integers lists. \n",
    "l = [1,2,3,4,5,6,-1,-2,-3,-4,-5,0]\n",
    "\n",
    "pos, neg = list(filter(lambda n: n >= 0, l)), list(filter(lambda n: n < 0, l))\n",
    "print(pos, neg)"
   ]
  }
 ],
 "metadata": {
  "kernelspec": {
   "display_name": "Python 3 (ipykernel)",
   "language": "python",
   "name": "python3"
  },
  "language_info": {
   "codemirror_mode": {
    "name": "ipython",
    "version": 3
   },
   "file_extension": ".py",
   "mimetype": "text/x-python",
   "name": "python",
   "nbconvert_exporter": "python",
   "pygments_lexer": "ipython3",
   "version": "3.10.8"
  }
 },
 "nbformat": 4,
 "nbformat_minor": 5
}
